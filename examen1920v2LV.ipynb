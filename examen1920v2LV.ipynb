{
  "nbformat": 4,
  "nbformat_minor": 0,
  "metadata": {
    "kernelspec": {
      "display_name": "Python 3",
      "language": "python",
      "name": "python3"
    },
    "language_info": {
      "codemirror_mode": {
        "name": "ipython",
        "version": 3
      },
      "file_extension": ".py",
      "mimetype": "text/x-python",
      "name": "python",
      "nbconvert_exporter": "python",
      "pygments_lexer": "ipython3",
      "version": "3.7.4"
    },
    "colab": {
      "name": "examen1920v2LV.ipynb",
      "provenance": [],
      "collapsed_sections": [],
      "toc_visible": true,
      "include_colab_link": true
    }
  },
  "cells": [
    {
      "cell_type": "markdown",
      "metadata": {
        "id": "view-in-github",
        "colab_type": "text"
      },
      "source": [
        "<a href=\"https://colab.research.google.com/github/lulas98/ETL/blob/main/examen1920v2LV.ipynb\" target=\"_parent\"><img src=\"https://colab.research.google.com/assets/colab-badge.svg\" alt=\"Open In Colab\"/></a>"
      ]
    },
    {
      "cell_type": "markdown",
      "metadata": {
        "id": "o314j30sHexJ"
      },
      "source": [
        "## 1. The World Bank's international debt data\n",
        "<p>No es que los humanos solo tengamos deudas para administrar nuestras necesidades. Un país también puede endeudarse para administrar su economía. Por ejemplo, el gasto en infraestructura es un ingrediente costoso requerido para que los ciudadanos de un país lleven una vida cómoda. El Banco Mundial es la organización que proporciona deuda a los países.</p>\n",
        "\n",
        "<!-- <p>En este notebook, vamos a analizar los datos de la deuda internacional recopilados por el Banco Mundial. El conjunto de datos contiene información sobre el monto de la deuda (en USD) que deben los países en desarrollo en varias categorías.</p>  -->\n",
        "    "
      ]
    },
    {
      "cell_type": "markdown",
      "metadata": {
        "id": "v5SdJbgiHexN"
      },
      "source": [
        "\"Disbursements on external debt, long-term (DIS, current US$)\",DT.DIS.DLXF.CD\n",
        "\"Interest payments on external debt, long-term (INT, current US$)\",DT.INT.DLXF.CD\n",
        "\"PPG, bilateral (AMT, current US$)\",DT.AMT.BLAT.CD\n",
        "\"PPG, bilateral (DIS, current US$)\",DT.DIS.BLAT.CD\n",
        "\"PPG, bilateral (INT, current US$)\",DT.INT.BLAT.CD\n",
        "\"PPG, multilateral (AMT, current US$)\",DT.AMT.MLAT.CD\n",
        "\"PPG, multilateral (DIS, current US$)\",DT.DIS.MLAT.CD\n",
        "\"PPG, multilateral (INT, current US$)\",DT.INT.MLAT.CD\n",
        "\"PPG, official creditors (AMT, current US$)\",DT.AMT.OFFT.CD\n",
        "\"PPG, official creditors (DIS, current US$)\",DT.DIS.OFFT.CD\n",
        "\"PPG, official creditors (INT, current US$)\",DT.INT.OFFT.CD\n",
        "\"Principal repayments on external debt, long-term (AMT, current US$)\",DT.AMT.DLXF.CD\n",
        "\"Interest payments on external debt, private nonguaranteed (PNG) (INT, current US$)\",DT.INT.DPNG.CD\n",
        "\"PPG, bonds (AMT, current US$)\",DT.AMT.PBND.CD\n",
        "\"PPG, bonds (INT, current US$)\",DT.INT.PBND.CD\n",
        "\"PPG, commercial banks (AMT, current US$)\",DT.AMT.PCBK.CD\n",
        "\"PPG, commercial banks (DIS, current US$)\",DT.DIS.PCBK.CD\n",
        "\"PPG, commercial banks (INT, current US$)\",DT.INT.PCBK.CD\n",
        "\"PPG, other private creditors (AMT, current US$)\",DT.AMT.PROP.CD\n",
        "\"PPG, other private creditors (DIS, current US$)\",DT.DIS.PROP.CD\n",
        "\"PPG, other private creditors (INT, current US$)\",DT.INT.PROP.CD\n",
        "\"PPG, private creditors (AMT, current US$)\",DT.AMT.PRVT.CD\n",
        "\"PPG, private creditors (DIS, current US$)\",DT.DIS.PRVT.CD\n",
        "\"PPG, private creditors (INT, current US$)\",DT.INT.PRVT.CD\n",
        "\"Principal repayments on external debt, private nonguaranteed (PNG) (AMT, current US$)\",DT.AMT.DPNG.CD"
      ]
    },
    {
      "cell_type": "markdown",
      "metadata": {
        "id": "oWiQExJcHexO"
      },
      "source": [
        "<p>Vamos a encontrar las respuestas a preguntas como:\n",
        "\n",
        "<p>¿Cuál es el monto total de la deuda que deben los países enumerados en el conjunto de datos?\n",
        "<p>¿Qué país posee la cantidad máxima de deuda y cómo se ve esa cantidad?\n",
        "<p>¿Cuál es el monto promedio de la deuda de los países a través de diferentes indicadores de deuda?\n",
        "    \n",
        "Además tenemos otro dataset en el que encontramos información histórica de algunos índices de desarrollo, entre los que se encuentran algunos de deuda como son:"
      ]
    },
    {
      "cell_type": "markdown",
      "metadata": {
        "id": "ckEOCt9PHexO"
      },
      "source": [
        "Series Name,Series Code\n",
        "\"Birth rate, crude (per 1,000 people)\",SP.DYN.CBRT.IN\n",
        "\n",
        "\"Central government debt, total (current LCU)\",GC.DOD.TOTL.CN\n",
        "\n",
        "\"Central government debt, total (% of GDP)\",GC.DOD.TOTL.GD.ZS"
      ]
    },
    {
      "cell_type": "markdown",
      "metadata": {
        "id": "EeP5i7HKHexP"
      },
      "source": [
        "#### 1. Inicializar y cargar el contexto spark"
      ]
    },
    {
      "cell_type": "code",
      "metadata": {
        "id": "4CcumtylHkQQ"
      },
      "source": [
        "!apt-get install openjdk-8-jdk-headless -qq > /dev/null\r\n",
        "!wget -q https://www-us.apache.org/dist/spark/spark-2.4.7/spark-2.4.7-bin-hadoop2.7.tgz\r\n",
        "!tar xf spark-2.4.7-bin-hadoop2.7.tgz\r\n",
        "!pip install -q findspark"
      ],
      "execution_count": null,
      "outputs": []
    },
    {
      "cell_type": "code",
      "metadata": {
        "id": "IgXWSxWVHtVZ"
      },
      "source": [
        "import os\r\n",
        "os.environ[\"JAVA_HOME\"] = \"/usr/lib/jvm/java-8-openjdk-amd64\"\r\n",
        "os.environ[\"SPARK_HOME\"] = \"/content/spark-2.4.7-bin-hadoop2.7\""
      ],
      "execution_count": null,
      "outputs": []
    },
    {
      "cell_type": "code",
      "metadata": {
        "id": "aK2M-NXSHuxX"
      },
      "source": [
        "import findspark\r\n",
        "findspark.init()\r\n",
        "from pyspark import SparkContext\r\n",
        "sc = SparkContext.getOrCreate()\r\n",
        "from pyspark.sql import SparkSession\r\n",
        "spark = SparkSession.builder.master(\"local[*]\").getOrCreate()"
      ],
      "execution_count": null,
      "outputs": []
    },
    {
      "cell_type": "code",
      "metadata": {
        "colab": {
          "base_uri": "https://localhost:8080/",
          "height": 162
        },
        "id": "xuoBWNd5P4Ij",
        "outputId": "e0b3c09e-880c-4632-f646-aedf7a7feaf3"
      },
      "source": [
        ""
      ],
      "execution_count": null,
      "outputs": [
        {
          "output_type": "error",
          "ename": "NameError",
          "evalue": "ignored",
          "traceback": [
            "\u001b[0;31m---------------------------------------------------------------------------\u001b[0m",
            "\u001b[0;31mNameError\u001b[0m                                 Traceback (most recent call last)",
            "\u001b[0;32m<ipython-input-1-f1553091b614>\u001b[0m in \u001b[0;36m<module>\u001b[0;34m()\u001b[0m\n\u001b[0;32m----> 1\u001b[0;31m \u001b[0mRawData\u001b[0m \u001b[0;34m=\u001b[0m \u001b[0mspark\u001b[0m\u001b[0;34m.\u001b[0m\u001b[0mread\u001b[0m\u001b[0;34m.\u001b[0m\u001b[0mcsv\u001b[0m\u001b[0;34m(\u001b[0m\u001b[0;34m\"BDpracticafinalCSV.csv\"\u001b[0m\u001b[0;34m)\u001b[0m\u001b[0;34m\u001b[0m\u001b[0;34m\u001b[0m\u001b[0m\n\u001b[0m",
            "\u001b[0;31mNameError\u001b[0m: name 'spark' is not defined"
          ]
        }
      ]
    },
    {
      "cell_type": "markdown",
      "metadata": {
        "id": "1yn2Gk3CHexP"
      },
      "source": [
        "##### 2. Número de países distintos en cada dataset. Coinciden?"
      ]
    },
    {
      "cell_type": "code",
      "metadata": {
        "id": "xZf8tRiAJztc"
      },
      "source": [
        "import pandas as pd\r\n",
        "import numpy as np\r\n",
        "from pyspark.sql import Row"
      ],
      "execution_count": null,
      "outputs": []
    },
    {
      "cell_type": "markdown",
      "metadata": {
        "id": "WiwJ33vrEcMl"
      },
      "source": [
        "Importamos csv"
      ]
    },
    {
      "cell_type": "code",
      "metadata": {
        "id": "sggKkQj6JJ78"
      },
      "source": [
        "explicacion_var = sc.textFile('explicacion_var1920.csv')\r\n",
        "explicacion_varDeu = sc.textFile('explicacion_varDeu1920.csv')\r\n",
        "indicadores_desarrollo = sc.textFile('indicadores_desarrollo.csv')\r\n",
        "indicadores_deuda = sc.textFile('indicadores_deuda.csv')"
      ],
      "execution_count": null,
      "outputs": []
    },
    {
      "cell_type": "markdown",
      "metadata": {
        "id": "CysmH4CUEfiY"
      },
      "source": [
        "Los observamos"
      ]
    },
    {
      "cell_type": "code",
      "metadata": {
        "colab": {
          "base_uri": "https://localhost:8080/"
        },
        "id": "fQhWgN8uJyTm",
        "outputId": "cf16c660-7f30-4765-bb75-74235b24dc15"
      },
      "source": [
        "explicacion_var.take(5)\r\n",
        "\r\n"
      ],
      "execution_count": null,
      "outputs": [
        {
          "output_type": "execute_result",
          "data": {
            "text/plain": [
              "['Series Name,Series Code',\n",
              " '\"Birth rate, crude (per 1,000 people)\",SP.DYN.CBRT.IN',\n",
              " '\"Cause of death, by injury (% of total)\",SH.DTH.INJR.ZS',\n",
              " '\"Central government debt, total (current LCU)\",GC.DOD.TOTL.CN',\n",
              " '\"Central government debt, total (% of GDP)\",GC.DOD.TOTL.GD.ZS']"
            ]
          },
          "metadata": {
            "tags": []
          },
          "execution_count": 12
        }
      ]
    },
    {
      "cell_type": "code",
      "metadata": {
        "colab": {
          "base_uri": "https://localhost:8080/"
        },
        "id": "xsR_ASpWvrQ3",
        "outputId": "30645a87-ca62-4868-9704-517ed5b01801"
      },
      "source": [
        "explicacion_varDeu.take(5)"
      ],
      "execution_count": null,
      "outputs": [
        {
          "output_type": "execute_result",
          "data": {
            "text/plain": [
              "['indicator_name,indicator_code',\n",
              " '\"Disbursements on external debt, long-term (DIS, current US$)\",DT.DIS.DLXF.CD',\n",
              " '\"Interest payments on external debt, long-term (INT, current US$)\",DT.INT.DLXF.CD',\n",
              " '\"PPG, bilateral (AMT, current US$)\",DT.AMT.BLAT.CD',\n",
              " '\"PPG, bilateral (DIS, current US$)\",DT.DIS.BLAT.CD']"
            ]
          },
          "metadata": {
            "tags": []
          },
          "execution_count": 13
        }
      ]
    },
    {
      "cell_type": "code",
      "metadata": {
        "colab": {
          "base_uri": "https://localhost:8080/"
        },
        "id": "Xa5PP-Sivp-y",
        "outputId": "13b988d9-ffa7-463e-87bc-c90a186d48f1"
      },
      "source": [
        "indicadores_desarrollo.take(5)"
      ],
      "execution_count": null,
      "outputs": [
        {
          "output_type": "execute_result",
          "data": {
            "text/plain": [
              "['country_name,country_code,anho,GC.DOD.TOTL.CN,GC.DOD.TOTL.GD.ZS,SP.DYN.CBRT.IN',\n",
              " 'Albania,ALB,2014 [YR2014],1023040800000,73.3202469198429,12.259',\n",
              " 'Albania,ALB,2015 [YR2015],1145500940000,79.8644448747259,12.197',\n",
              " 'Albania,ALB,2016 [YR2016],1188814490000,80.7355748396923,12.08',\n",
              " 'Australia,AUS,2014 [YR2014],674700000,0.042207528166503,13.2']"
            ]
          },
          "metadata": {
            "tags": []
          },
          "execution_count": 14
        }
      ]
    },
    {
      "cell_type": "code",
      "metadata": {
        "colab": {
          "base_uri": "https://localhost:8080/"
        },
        "id": "yfNTx39Et6lL",
        "outputId": "d37b246e-d431-42f4-beb2-942cb36c1b53"
      },
      "source": [
        "indicadores_deuda.take(5)"
      ],
      "execution_count": null,
      "outputs": [
        {
          "output_type": "execute_result",
          "data": {
            "text/plain": [
              "['country_name,country_code,DT.AMT.BLAT.CD,DT.AMT.DLXF.CD,DT.AMT.DPNG.CD,DT.AMT.MLAT.CD,DT.AMT.OFFT.CD,DT.AMT.PBND.CD,DT.AMT.PCBK.CD,DT.AMT.PROP.CD,DT.AMT.PRVT.CD,DT.DIS.BLAT.CD,DT.DIS.DLXF.CD,DT.DIS.MLAT.CD,DT.DIS.OFFT.CD,DT.DIS.PCBK.CD,DT.DIS.PROP.CD,DT.DIS.PRVT.CD,DT.INT.BLAT.CD,DT.INT.DLXF.CD,DT.INT.DPNG.CD,DT.INT.MLAT.CD,DT.INT.OFFT.CD,DT.INT.PBND.CD,DT.INT.PCBK.CD,DT.INT.PROP.CD,DT.INT.PRVT.CD',\n",
              " 'Afghanistan,AFG,61739336.9,100847181.9,,39107845,100847181.9,,,,,49114729.4,72894453.7,23779724.3,72894453.7,,,,39903620.1,53239440.1,,13335820,53239440.1,,,,',\n",
              " 'Albania,ALB,54250280.6,790248675.2,514185620,182197616.7,236447897.3,0,39445139.5,170018.4,39615157.9,76050616.1,317194512.5,234321242.3,310371858.4,4542664.9,2279989.2,6822654.1,13847333.6,165602386.9,87884000,28101536.1,41948869.7,31030688.2,4618504.3,120324.7,35769517.2',\n",
              " 'Algeria,DZA,95188724.6,171185188.1,75420000,0,95188724.6,,576463.5,0,576463.5,10320772.2,10320772.2,,10320772.2,,,,7680627.6,19031728.7,3220000,8094779,15775406.6,,13192.3,23129.8,36322.1',\n",
              " 'Angola,AGO,8473824016.3,11067045628.1,,124688691.9,8598512708.2,1e+09,1125088719.9,343444200,2468532919.9,8838256901.1,10924018093.1,178989598.2,9017246499.3,1906771593.8,,1906771593.8,1005053965.1,1798550445.5,,47038476.1,1052092441.2,7e+07,580902004.3,95556000,746458004.3']"
            ]
          },
          "metadata": {
            "tags": []
          },
          "execution_count": 15
        }
      ]
    },
    {
      "cell_type": "markdown",
      "metadata": {
        "id": "6xQMYUc-Ejx1"
      },
      "source": [
        "\r\n",
        "Eliminamos los cabeceros"
      ]
    },
    {
      "cell_type": "code",
      "metadata": {
        "colab": {
          "base_uri": "https://localhost:8080/"
        },
        "id": "korNqQSFv5lR",
        "outputId": "57c6ba05-dd9d-4b8d-d2c0-d14a04681e56"
      },
      "source": [
        "\r\n",
        "cabecero = explicacion_var.first()\r\n",
        "explicacion_var_clean = explicacion_var.filter(lambda x: x !=cabecero)\r\n",
        "explicacion_var_clean.take(5)"
      ],
      "execution_count": null,
      "outputs": [
        {
          "output_type": "execute_result",
          "data": {
            "text/plain": [
              "['\"Birth rate, crude (per 1,000 people)\",SP.DYN.CBRT.IN',\n",
              " '\"Cause of death, by injury (% of total)\",SH.DTH.INJR.ZS',\n",
              " '\"Central government debt, total (current LCU)\",GC.DOD.TOTL.CN',\n",
              " '\"Central government debt, total (% of GDP)\",GC.DOD.TOTL.GD.ZS',\n",
              " '\"Total alcohol consumption per capita (liters of pure alcohol, projected estimates, 15+ years of age)\",SH.ALC.PCAP.LI']"
            ]
          },
          "metadata": {
            "tags": []
          },
          "execution_count": 16
        }
      ]
    },
    {
      "cell_type": "code",
      "metadata": {
        "colab": {
          "base_uri": "https://localhost:8080/"
        },
        "id": "RPM_tZqExOIJ",
        "outputId": "04c946dd-5e4a-4b78-9816-f4429e7aebf6"
      },
      "source": [
        "cabecero2 = indicadores_desarrollo.first()\r\n",
        "indicadores_desarrollo_clean = indicadores_desarrollo.filter(lambda x: x !=cabecero2)\r\n",
        "indicadores_desarrollo_clean.take(5)"
      ],
      "execution_count": null,
      "outputs": [
        {
          "output_type": "execute_result",
          "data": {
            "text/plain": [
              "['Albania,ALB,2014 [YR2014],1023040800000,73.3202469198429,12.259',\n",
              " 'Albania,ALB,2015 [YR2015],1145500940000,79.8644448747259,12.197',\n",
              " 'Albania,ALB,2016 [YR2016],1188814490000,80.7355748396923,12.08',\n",
              " 'Australia,AUS,2014 [YR2014],674700000,0.042207528166503,13.2',\n",
              " 'Australia,AUS,2015 [YR2015],762718000,0.0469480198522591,12.9']"
            ]
          },
          "metadata": {
            "tags": []
          },
          "execution_count": 17
        }
      ]
    },
    {
      "cell_type": "code",
      "metadata": {
        "colab": {
          "base_uri": "https://localhost:8080/"
        },
        "id": "ZRm_x65rxi0g",
        "outputId": "1d947944-5869-4590-c005-c5e3f00831c7"
      },
      "source": [
        "cabecero3 = explicacion_varDeu.first()\r\n",
        "explicacion_varDeu_clean = explicacion_varDeu.filter(lambda x: x !=cabecero3)\r\n",
        "explicacion_varDeu_clean.take(5)"
      ],
      "execution_count": null,
      "outputs": [
        {
          "output_type": "execute_result",
          "data": {
            "text/plain": [
              "['\"Disbursements on external debt, long-term (DIS, current US$)\",DT.DIS.DLXF.CD',\n",
              " '\"Interest payments on external debt, long-term (INT, current US$)\",DT.INT.DLXF.CD',\n",
              " '\"PPG, bilateral (AMT, current US$)\",DT.AMT.BLAT.CD',\n",
              " '\"PPG, bilateral (DIS, current US$)\",DT.DIS.BLAT.CD',\n",
              " '\"PPG, bilateral (INT, current US$)\",DT.INT.BLAT.CD']"
            ]
          },
          "metadata": {
            "tags": []
          },
          "execution_count": 18
        }
      ]
    },
    {
      "cell_type": "code",
      "metadata": {
        "colab": {
          "base_uri": "https://localhost:8080/"
        },
        "id": "IMoITcFzty8Z",
        "outputId": "2d1ca60f-cb6b-4ea2-eec6-6a0bc1bd2ff8"
      },
      "source": [
        "indicadores_deuda.take(5)"
      ],
      "execution_count": null,
      "outputs": [
        {
          "output_type": "execute_result",
          "data": {
            "text/plain": [
              "['country_name,country_code,DT.AMT.BLAT.CD,DT.AMT.DLXF.CD,DT.AMT.DPNG.CD,DT.AMT.MLAT.CD,DT.AMT.OFFT.CD,DT.AMT.PBND.CD,DT.AMT.PCBK.CD,DT.AMT.PROP.CD,DT.AMT.PRVT.CD,DT.DIS.BLAT.CD,DT.DIS.DLXF.CD,DT.DIS.MLAT.CD,DT.DIS.OFFT.CD,DT.DIS.PCBK.CD,DT.DIS.PROP.CD,DT.DIS.PRVT.CD,DT.INT.BLAT.CD,DT.INT.DLXF.CD,DT.INT.DPNG.CD,DT.INT.MLAT.CD,DT.INT.OFFT.CD,DT.INT.PBND.CD,DT.INT.PCBK.CD,DT.INT.PROP.CD,DT.INT.PRVT.CD',\n",
              " 'Afghanistan,AFG,61739336.9,100847181.9,,39107845,100847181.9,,,,,49114729.4,72894453.7,23779724.3,72894453.7,,,,39903620.1,53239440.1,,13335820,53239440.1,,,,',\n",
              " 'Albania,ALB,54250280.6,790248675.2,514185620,182197616.7,236447897.3,0,39445139.5,170018.4,39615157.9,76050616.1,317194512.5,234321242.3,310371858.4,4542664.9,2279989.2,6822654.1,13847333.6,165602386.9,87884000,28101536.1,41948869.7,31030688.2,4618504.3,120324.7,35769517.2',\n",
              " 'Algeria,DZA,95188724.6,171185188.1,75420000,0,95188724.6,,576463.5,0,576463.5,10320772.2,10320772.2,,10320772.2,,,,7680627.6,19031728.7,3220000,8094779,15775406.6,,13192.3,23129.8,36322.1',\n",
              " 'Angola,AGO,8473824016.3,11067045628.1,,124688691.9,8598512708.2,1e+09,1125088719.9,343444200,2468532919.9,8838256901.1,10924018093.1,178989598.2,9017246499.3,1906771593.8,,1906771593.8,1005053965.1,1798550445.5,,47038476.1,1052092441.2,7e+07,580902004.3,95556000,746458004.3']"
            ]
          },
          "metadata": {
            "tags": []
          },
          "execution_count": 19
        }
      ]
    },
    {
      "cell_type": "code",
      "metadata": {
        "colab": {
          "base_uri": "https://localhost:8080/"
        },
        "id": "4rTt_QlDx2jS",
        "outputId": "d7c3b0c2-b8a8-4505-c804-affc4c8572cd"
      },
      "source": [
        "\r\n",
        "cabecero4 = indicadores_deuda.first()\r\n",
        "indicadores_deuda_clean = indicadores_deuda.filter(lambda x: x !=cabecero4)\r\n",
        "indicadores_deuda_clean.take(5)"
      ],
      "execution_count": null,
      "outputs": [
        {
          "output_type": "execute_result",
          "data": {
            "text/plain": [
              "['Afghanistan,AFG,61739336.9,100847181.9,,39107845,100847181.9,,,,,49114729.4,72894453.7,23779724.3,72894453.7,,,,39903620.1,53239440.1,,13335820,53239440.1,,,,',\n",
              " 'Albania,ALB,54250280.6,790248675.2,514185620,182197616.7,236447897.3,0,39445139.5,170018.4,39615157.9,76050616.1,317194512.5,234321242.3,310371858.4,4542664.9,2279989.2,6822654.1,13847333.6,165602386.9,87884000,28101536.1,41948869.7,31030688.2,4618504.3,120324.7,35769517.2',\n",
              " 'Algeria,DZA,95188724.6,171185188.1,75420000,0,95188724.6,,576463.5,0,576463.5,10320772.2,10320772.2,,10320772.2,,,,7680627.6,19031728.7,3220000,8094779,15775406.6,,13192.3,23129.8,36322.1',\n",
              " 'Angola,AGO,8473824016.3,11067045628.1,,124688691.9,8598512708.2,1e+09,1125088719.9,343444200,2468532919.9,8838256901.1,10924018093.1,178989598.2,9017246499.3,1906771593.8,,1906771593.8,1005053965.1,1798550445.5,,47038476.1,1052092441.2,7e+07,580902004.3,95556000,746458004.3',\n",
              " 'Armenia,ARM,68968314.7,845630723.8,680696190,94331207.1,163299521.8,0,1635012,,1635012,174269846.7,426959175.6,252689328.9,426959175.6,,,,24094832,275292981.1,128076000,57171463.9,81266295.9,65754000,196685.2,,65950685.2']"
            ]
          },
          "metadata": {
            "tags": []
          },
          "execution_count": 20
        }
      ]
    },
    {
      "cell_type": "code",
      "metadata": {
        "id": "-QZL7fpCvz-K"
      },
      "source": [
        "\r\n",
        "\r\n",
        "indicadores_desarrollo_clean = indicadores_desarrollo_clean.map(lambda x: x.split(','))\r\n",
        "\r\n"
      ],
      "execution_count": null,
      "outputs": []
    },
    {
      "cell_type": "code",
      "metadata": {
        "colab": {
          "base_uri": "https://localhost:8080/"
        },
        "id": "X0_KG3mot99H",
        "outputId": "282bbe51-ab5b-45a4-f538-2063ac7f2eb5"
      },
      "source": [
        "indicadores_desarrollo_clean.take(5)"
      ],
      "execution_count": null,
      "outputs": [
        {
          "output_type": "execute_result",
          "data": {
            "text/plain": [
              "[['Albania',\n",
              "  'ALB',\n",
              "  '2014 [YR2014]',\n",
              "  '1023040800000',\n",
              "  '73.3202469198429',\n",
              "  '12.259'],\n",
              " ['Albania',\n",
              "  'ALB',\n",
              "  '2015 [YR2015]',\n",
              "  '1145500940000',\n",
              "  '79.8644448747259',\n",
              "  '12.197'],\n",
              " ['Albania',\n",
              "  'ALB',\n",
              "  '2016 [YR2016]',\n",
              "  '1188814490000',\n",
              "  '80.7355748396923',\n",
              "  '12.08'],\n",
              " ['Australia',\n",
              "  'AUS',\n",
              "  '2014 [YR2014]',\n",
              "  '674700000',\n",
              "  '0.042207528166503',\n",
              "  '13.2'],\n",
              " ['Australia',\n",
              "  'AUS',\n",
              "  '2015 [YR2015]',\n",
              "  '762718000',\n",
              "  '0.0469480198522591',\n",
              "  '12.9']]"
            ]
          },
          "metadata": {
            "tags": []
          },
          "execution_count": 22
        }
      ]
    },
    {
      "cell_type": "code",
      "metadata": {
        "id": "2AKlaCfLztw4"
      },
      "source": [
        "indicadores_deuda_clean = indicadores_deuda_clean.map(lambda x: x.split(','))"
      ],
      "execution_count": null,
      "outputs": []
    },
    {
      "cell_type": "code",
      "metadata": {
        "colab": {
          "base_uri": "https://localhost:8080/"
        },
        "id": "Bk9iASBguBRP",
        "outputId": "cf563299-282c-4419-f2f4-6817daa1db84"
      },
      "source": [
        "indicadores_deuda_clean.take(5)"
      ],
      "execution_count": null,
      "outputs": [
        {
          "output_type": "execute_result",
          "data": {
            "text/plain": [
              "[['Afghanistan',\n",
              "  'AFG',\n",
              "  '61739336.9',\n",
              "  '100847181.9',\n",
              "  '',\n",
              "  '39107845',\n",
              "  '100847181.9',\n",
              "  '',\n",
              "  '',\n",
              "  '',\n",
              "  '',\n",
              "  '49114729.4',\n",
              "  '72894453.7',\n",
              "  '23779724.3',\n",
              "  '72894453.7',\n",
              "  '',\n",
              "  '',\n",
              "  '',\n",
              "  '39903620.1',\n",
              "  '53239440.1',\n",
              "  '',\n",
              "  '13335820',\n",
              "  '53239440.1',\n",
              "  '',\n",
              "  '',\n",
              "  '',\n",
              "  ''],\n",
              " ['Albania',\n",
              "  'ALB',\n",
              "  '54250280.6',\n",
              "  '790248675.2',\n",
              "  '514185620',\n",
              "  '182197616.7',\n",
              "  '236447897.3',\n",
              "  '0',\n",
              "  '39445139.5',\n",
              "  '170018.4',\n",
              "  '39615157.9',\n",
              "  '76050616.1',\n",
              "  '317194512.5',\n",
              "  '234321242.3',\n",
              "  '310371858.4',\n",
              "  '4542664.9',\n",
              "  '2279989.2',\n",
              "  '6822654.1',\n",
              "  '13847333.6',\n",
              "  '165602386.9',\n",
              "  '87884000',\n",
              "  '28101536.1',\n",
              "  '41948869.7',\n",
              "  '31030688.2',\n",
              "  '4618504.3',\n",
              "  '120324.7',\n",
              "  '35769517.2'],\n",
              " ['Algeria',\n",
              "  'DZA',\n",
              "  '95188724.6',\n",
              "  '171185188.1',\n",
              "  '75420000',\n",
              "  '0',\n",
              "  '95188724.6',\n",
              "  '',\n",
              "  '576463.5',\n",
              "  '0',\n",
              "  '576463.5',\n",
              "  '10320772.2',\n",
              "  '10320772.2',\n",
              "  '',\n",
              "  '10320772.2',\n",
              "  '',\n",
              "  '',\n",
              "  '',\n",
              "  '7680627.6',\n",
              "  '19031728.7',\n",
              "  '3220000',\n",
              "  '8094779',\n",
              "  '15775406.6',\n",
              "  '',\n",
              "  '13192.3',\n",
              "  '23129.8',\n",
              "  '36322.1'],\n",
              " ['Angola',\n",
              "  'AGO',\n",
              "  '8473824016.3',\n",
              "  '11067045628.1',\n",
              "  '',\n",
              "  '124688691.9',\n",
              "  '8598512708.2',\n",
              "  '1e+09',\n",
              "  '1125088719.9',\n",
              "  '343444200',\n",
              "  '2468532919.9',\n",
              "  '8838256901.1',\n",
              "  '10924018093.1',\n",
              "  '178989598.2',\n",
              "  '9017246499.3',\n",
              "  '1906771593.8',\n",
              "  '',\n",
              "  '1906771593.8',\n",
              "  '1005053965.1',\n",
              "  '1798550445.5',\n",
              "  '',\n",
              "  '47038476.1',\n",
              "  '1052092441.2',\n",
              "  '7e+07',\n",
              "  '580902004.3',\n",
              "  '95556000',\n",
              "  '746458004.3'],\n",
              " ['Armenia',\n",
              "  'ARM',\n",
              "  '68968314.7',\n",
              "  '845630723.8',\n",
              "  '680696190',\n",
              "  '94331207.1',\n",
              "  '163299521.8',\n",
              "  '0',\n",
              "  '1635012',\n",
              "  '',\n",
              "  '1635012',\n",
              "  '174269846.7',\n",
              "  '426959175.6',\n",
              "  '252689328.9',\n",
              "  '426959175.6',\n",
              "  '',\n",
              "  '',\n",
              "  '',\n",
              "  '24094832',\n",
              "  '275292981.1',\n",
              "  '128076000',\n",
              "  '57171463.9',\n",
              "  '81266295.9',\n",
              "  '65754000',\n",
              "  '196685.2',\n",
              "  '',\n",
              "  '65950685.2']]"
            ]
          },
          "metadata": {
            "tags": []
          },
          "execution_count": 24
        }
      ]
    },
    {
      "cell_type": "markdown",
      "metadata": {
        "id": "RYsyisLPEqgD"
      },
      "source": [
        "Contamos el numero de paises distintos"
      ]
    },
    {
      "cell_type": "code",
      "metadata": {
        "colab": {
          "base_uri": "https://localhost:8080/"
        },
        "id": "PDSZ8EQ3uNWa",
        "outputId": "72722f69-1b2e-4c99-a686-86a4327d8f6c"
      },
      "source": [
        "desarrollo_countries = indicadores_desarrollo_clean.map(lambda x: x[0]) #es la posición 0 de nuestro RDD que en este caso son los nombres de los paises\r\n",
        "desarrollo_countries.distinct().count()"
      ],
      "execution_count": null,
      "outputs": [
        {
          "output_type": "execute_result",
          "data": {
            "text/plain": [
              "51"
            ]
          },
          "metadata": {
            "tags": []
          },
          "execution_count": 25
        }
      ]
    },
    {
      "cell_type": "code",
      "metadata": {
        "colab": {
          "base_uri": "https://localhost:8080/"
        },
        "id": "oi_4hoUjy070",
        "outputId": "341bfae0-b18b-4407-fe5c-ee6c602bb388"
      },
      "source": [
        "\r\n",
        "indicadores_deuda_countries = indicadores_deuda_clean.map(lambda x: x[0])\r\n",
        "indicadores_deuda_countries.distinct().count()"
      ],
      "execution_count": null,
      "outputs": [
        {
          "output_type": "execute_result",
          "data": {
            "text/plain": [
              "123"
            ]
          },
          "metadata": {
            "tags": []
          },
          "execution_count": 26
        }
      ]
    },
    {
      "cell_type": "markdown",
      "metadata": {
        "id": "7qAUqg9pEuR6"
      },
      "source": [
        "Se puede observar que son distintos"
      ]
    },
    {
      "cell_type": "markdown",
      "metadata": {
        "id": "WhMx2567HexP"
      },
      "source": [
        "##### 3. Total de deuda contraida por cada pais: total amount of debt (in USD) DT.AMT.MLAT.CD"
      ]
    },
    {
      "cell_type": "code",
      "metadata": {
        "colab": {
          "base_uri": "https://localhost:8080/"
        },
        "id": "-KuLnELz0tO5",
        "outputId": "49b9946c-3356-4fd0-af41-e0b1cfd7efda"
      },
      "source": [
        "\r\n",
        "indicadores_deuda_split = indicadores_deuda.map(lambda x: x.split(','))\r\n",
        "indicadores_deuda_split.take(1)"
      ],
      "execution_count": null,
      "outputs": [
        {
          "output_type": "execute_result",
          "data": {
            "text/plain": [
              "[['country_name',\n",
              "  'country_code',\n",
              "  'DT.AMT.BLAT.CD',\n",
              "  'DT.AMT.DLXF.CD',\n",
              "  'DT.AMT.DPNG.CD',\n",
              "  'DT.AMT.MLAT.CD',\n",
              "  'DT.AMT.OFFT.CD',\n",
              "  'DT.AMT.PBND.CD',\n",
              "  'DT.AMT.PCBK.CD',\n",
              "  'DT.AMT.PROP.CD',\n",
              "  'DT.AMT.PRVT.CD',\n",
              "  'DT.DIS.BLAT.CD',\n",
              "  'DT.DIS.DLXF.CD',\n",
              "  'DT.DIS.MLAT.CD',\n",
              "  'DT.DIS.OFFT.CD',\n",
              "  'DT.DIS.PCBK.CD',\n",
              "  'DT.DIS.PROP.CD',\n",
              "  'DT.DIS.PRVT.CD',\n",
              "  'DT.INT.BLAT.CD',\n",
              "  'DT.INT.DLXF.CD',\n",
              "  'DT.INT.DPNG.CD',\n",
              "  'DT.INT.MLAT.CD',\n",
              "  'DT.INT.OFFT.CD',\n",
              "  'DT.INT.PBND.CD',\n",
              "  'DT.INT.PCBK.CD',\n",
              "  'DT.INT.PROP.CD',\n",
              "  'DT.INT.PRVT.CD']]"
            ]
          },
          "metadata": {
            "tags": []
          },
          "execution_count": 27
        }
      ]
    },
    {
      "cell_type": "code",
      "metadata": {
        "colab": {
          "base_uri": "https://localhost:8080/"
        },
        "id": "-aMi1Z4uz5QD",
        "outputId": "8998ef85-dd8c-4fec-e2c7-535220bfab68"
      },
      "source": [
        "\r\n",
        "country_deuda = indicadores_deuda_clean.map(lambda x: (x[0], x[5])) # Podemos observar que la deuda (DT.AMT.MLAT.CD) esta en la posicion 6, por lo que cogemos x[5]\r\n",
        "country_deuda.distinct().take(123) #Lista con los 123 paises distintos y su deuda"
      ],
      "execution_count": null,
      "outputs": [
        {
          "output_type": "execute_result",
          "data": {
            "text/plain": [
              "[('Afghanistan', '39107845'),\n",
              " ('Albania', '182197616.7'),\n",
              " ('Algeria', '0'),\n",
              " ('Armenia', '94331207.1'),\n",
              " ('Belarus', '595438826'),\n",
              " ('Bosnia and Herzegovina', '290170946.5'),\n",
              " ('Brazil', '2514318741.6'),\n",
              " ('Bulgaria', '228993019.8'),\n",
              " ('Burundi', '16115111.8'),\n",
              " ('Cameroon', '152095968.1'),\n",
              " ('Central African Republic', '2241813.8'),\n",
              " ('Chad', '95738709.5'),\n",
              " ('Comoros', '2182053.1'),\n",
              " ('Costa Rica', '272808260.7'),\n",
              " (\"Cote d'Ivoire\", '84629406.5'),\n",
              " ('Dominica', '11130355.8'),\n",
              " ('Dominican Republic', '254728306.1'),\n",
              " ('Ecuador', '578894793.9'),\n",
              " ('\"Egypt', '94662397.3'),\n",
              " ('El Salvador', '298939687.1'),\n",
              " ('\"Gambia', ''),\n",
              " ('Georgia', '144062401.5'),\n",
              " ('Grenada', '13740888.8'),\n",
              " ('Guatemala', '339822253.6'),\n",
              " ('Guinea-Bissau', '6713257.2'),\n",
              " ('Guyana', '34651806.5'),\n",
              " ('India', '4545609909.9'),\n",
              " ('Indonesia', '2469145824.7'),\n",
              " ('Jordan', '270498715.5'),\n",
              " ('Kosovo', '33590154.6'),\n",
              " ('Lesotho', '32459403.7'),\n",
              " ('Liberia', '7383619.4'),\n",
              " ('\"Macedonia', '571657452.1'),\n",
              " ('Malawi', '35659831.4'),\n",
              " ('Maldives', '17896143.5'),\n",
              " ('Mali', '135472245.9'),\n",
              " ('Mauritania', '184408220.2'),\n",
              " ('Moldova', '135842865.5'),\n",
              " ('Mongolia', '75937145.9'),\n",
              " ('Nicaragua', '181115898'),\n",
              " ('Niger', '115132364.5'),\n",
              " ('Nigeria', '297246686.6'),\n",
              " ('Pakistan', '1578651453.9'),\n",
              " ('Papua New Guinea', '78345326'),\n",
              " ('Paraguay', '207662030.9'),\n",
              " ('Peru', '553634090'),\n",
              " ('Philippines', '739056427.3'),\n",
              " ('Romania', '1798305095.8'),\n",
              " ('Rwanda', '31090382.5'),\n",
              " ('Samoa', '9987486.6'),\n",
              " ('Senegal', '170437929.1'),\n",
              " ('Sierra Leone', '24144262.8'),\n",
              " ('Solomon Islands', '3952828.9'),\n",
              " ('Somalia', '24683262.9'),\n",
              " ('South Asia', '7851739929.5'),\n",
              " ('Sri Lanka', '449771961.1'),\n",
              " ('Syrian Arab Republic', '147903571.1'),\n",
              " ('Thailand', '39071571.5'),\n",
              " ('Togo', '44198800.7'),\n",
              " ('Turkey', '2932698678'),\n",
              " ('Turkmenistan', '5831189.2'),\n",
              " ('Uganda', '145310077.2'),\n",
              " ('Vietnam', '947632152.5'),\n",
              " ('\"Yemen', ''),\n",
              " ('Zambia', '53068964.9'),\n",
              " ('Angola', '124688691.9'),\n",
              " ('Azerbaijan', '513623656.5'),\n",
              " ('Bangladesh', '1039564682.7'),\n",
              " ('Belize', '29683326.5'),\n",
              " ('Benin', '91631639.5'),\n",
              " ('Bhutan', '17390420.5'),\n",
              " ('Bolivia', '357721211.5'),\n",
              " ('Botswana', '125652344.5'),\n",
              " ('Burkina Faso', '119510893'),\n",
              " ('Cabo Verde', '39970124.9'),\n",
              " ('Cambodia', '72307001.8'),\n",
              " ('China', '2615723714.1'),\n",
              " ('Colombia', '1100907553.6'),\n",
              " ('\"Congo', ''),\n",
              " ('Djibouti', '34254909.2'),\n",
              " ('Eritrea', '15482475.4'),\n",
              " ('Eswatini', '18130218.8'),\n",
              " ('Ethiopia', '171590722.7'),\n",
              " ('Fiji', '9082442.6'),\n",
              " ('Gabon', '62404132.3'),\n",
              " ('Ghana', '130202003.1'),\n",
              " ('Guinea', '29819676.8'),\n",
              " ('Haiti', '10087968.8'),\n",
              " ('Honduras', '148225048.7'),\n",
              " ('IDA only', '4884095623.3'),\n",
              " ('\"Iran', ''),\n",
              " ('Jamaica', '174427648'),\n",
              " ('Kazakhstan', '1079948889.7'),\n",
              " ('Kenya', '391340889.9'),\n",
              " ('Kyrgyz Republic', '75278037.2'),\n",
              " ('Lao PDR', '80684114.6'),\n",
              " ('Least developed countries: UN classification', '4084275524.2'),\n",
              " ('Lebanon', '167638089.7'),\n",
              " ('Madagascar', '60669367.3'),\n",
              " ('Mauritius', '74568335.5'),\n",
              " ('Mexico', '864181883.5'),\n",
              " ('Montenegro', '77948064.8'),\n",
              " ('Morocco', '1381649282.3'),\n",
              " ('Mozambique', '91225626.1'),\n",
              " ('Myanmar', '30569845.2'),\n",
              " ('Nepal', '163747512.9'),\n",
              " ('Russian Federation', '141669500'),\n",
              " ('Sao Tome and Principe', '2418947.6'),\n",
              " ('Serbia', '715223963.7'),\n",
              " ('South Africa', '346393763.9'),\n",
              " ('St. Lucia', '15019216.3'),\n",
              " ('St. Vincent and the Grenadines', '21615600.7'),\n",
              " ('Sudan', '217194878.8'),\n",
              " ('Tajikistan', '59062982'),\n",
              " ('Tanzania', '141436637'),\n",
              " ('Timor-Leste', '825000'),\n",
              " ('Tonga', '2791253.2'),\n",
              " ('Tunisia', '956604000.1'),\n",
              " ('Ukraine', '1072472830.3'),\n",
              " ('Uzbekistan', '244240575.6'),\n",
              " ('Vanuatu', '2593419.3'),\n",
              " ('\"Venezuela', '6517487000'),\n",
              " ('Zimbabwe', '26697905.1')]"
            ]
          },
          "metadata": {
            "tags": []
          },
          "execution_count": 28
        }
      ]
    },
    {
      "cell_type": "markdown",
      "metadata": {
        "id": "jaRK83XcHexP"
      },
      "source": [
        "##### 4. Media de los indicadores de deuda (tabla uno): DT.AMT.BLAT.CD, DT.DIS.BLAT.CD, DT.INT.BLAT.CD"
      ]
    },
    {
      "cell_type": "code",
      "metadata": {
        "colab": {
          "base_uri": "https://localhost:8080/"
        },
        "id": "nwyd0WT40nXO",
        "outputId": "862e7ea6-8222-4c9e-a86e-8597ec3ff2cb"
      },
      "source": [
        "indicadores_deuda_split = indicadores_deuda.map(lambda x: x.split(','))\r\n",
        "indicadores_deuda_split.take(1) # Volvemos a observar que los indicadores requeridos están en las posiciones 3, 12 y 19"
      ],
      "execution_count": null,
      "outputs": [
        {
          "output_type": "execute_result",
          "data": {
            "text/plain": [
              "[['country_name',\n",
              "  'country_code',\n",
              "  'DT.AMT.BLAT.CD',\n",
              "  'DT.AMT.DLXF.CD',\n",
              "  'DT.AMT.DPNG.CD',\n",
              "  'DT.AMT.MLAT.CD',\n",
              "  'DT.AMT.OFFT.CD',\n",
              "  'DT.AMT.PBND.CD',\n",
              "  'DT.AMT.PCBK.CD',\n",
              "  'DT.AMT.PROP.CD',\n",
              "  'DT.AMT.PRVT.CD',\n",
              "  'DT.DIS.BLAT.CD',\n",
              "  'DT.DIS.DLXF.CD',\n",
              "  'DT.DIS.MLAT.CD',\n",
              "  'DT.DIS.OFFT.CD',\n",
              "  'DT.DIS.PCBK.CD',\n",
              "  'DT.DIS.PROP.CD',\n",
              "  'DT.DIS.PRVT.CD',\n",
              "  'DT.INT.BLAT.CD',\n",
              "  'DT.INT.DLXF.CD',\n",
              "  'DT.INT.DPNG.CD',\n",
              "  'DT.INT.MLAT.CD',\n",
              "  'DT.INT.OFFT.CD',\n",
              "  'DT.INT.PBND.CD',\n",
              "  'DT.INT.PCBK.CD',\n",
              "  'DT.INT.PROP.CD',\n",
              "  'DT.INT.PRVT.CD']]"
            ]
          },
          "metadata": {
            "tags": []
          },
          "execution_count": 29
        }
      ]
    },
    {
      "cell_type": "code",
      "metadata": {
        "colab": {
          "base_uri": "https://localhost:8080/"
        },
        "id": "ve1bclOI0nlX",
        "outputId": "ea25cccb-ebcd-4d87-ee93-10859cf050df"
      },
      "source": [
        "indicador_deuda1 = indicadores_deuda_clean.map(lambda x: x[2])\r\n",
        "\r\n",
        "indicador_deuda1.take(3)\r\n"
      ],
      "execution_count": null,
      "outputs": [
        {
          "output_type": "execute_result",
          "data": {
            "text/plain": [
              "['61739336.9', '54250280.6', '95188724.6']"
            ]
          },
          "metadata": {
            "tags": []
          },
          "execution_count": 30
        }
      ]
    },
    {
      "cell_type": "code",
      "metadata": {
        "colab": {
          "base_uri": "https://localhost:8080/"
        },
        "id": "Esgq9OPc2PCc",
        "outputId": "ce5de5a3-c810-44c8-f44a-64dd6f1113cc"
      },
      "source": [
        "indicador_deuda2 = indicadores_deuda_clean.map(lambda x: x[11])\r\n",
        "indicador_deuda2.take(3)"
      ],
      "execution_count": null,
      "outputs": [
        {
          "output_type": "execute_result",
          "data": {
            "text/plain": [
              "['49114729.4', '76050616.1', '10320772.2']"
            ]
          },
          "metadata": {
            "tags": []
          },
          "execution_count": 31
        }
      ]
    },
    {
      "cell_type": "code",
      "metadata": {
        "colab": {
          "base_uri": "https://localhost:8080/"
        },
        "id": "WRW12AWm2PqV",
        "outputId": "e564939b-fc06-424c-f504-35f0a8c106d1"
      },
      "source": [
        "indicador_deuda3 = indicadores_deuda_clean.map(lambda x: x[18])\r\n",
        "indicador_deuda3.take(3)"
      ],
      "execution_count": null,
      "outputs": [
        {
          "output_type": "execute_result",
          "data": {
            "text/plain": [
              "['39903620.1', '13847333.6', '7680627.6']"
            ]
          },
          "metadata": {
            "tags": []
          },
          "execution_count": 32
        }
      ]
    },
    {
      "cell_type": "code",
      "metadata": {
        "colab": {
          "base_uri": "https://localhost:8080/"
        },
        "id": "7jN2ZE8T4rpm",
        "outputId": "84627c23-0dc2-4986-e749-015d907cb3fa"
      },
      "source": [
        "indicador_deuda1\r\n",
        "indicador_deuda1 = indicador_deuda1.filter(lambda x: x.isdigit())\r\n",
        "indicador_deuda1 = indicador_deuda1.map(lambda x: float(x))\r\n",
        "\r\n",
        "indicador_deuda1.mean() #DT.AMT.BLAT.CD"
      ],
      "execution_count": null,
      "outputs": [
        {
          "output_type": "execute_result",
          "data": {
            "text/plain": [
              "61416650.11111111"
            ]
          },
          "metadata": {
            "tags": []
          },
          "execution_count": 33
        }
      ]
    },
    {
      "cell_type": "code",
      "metadata": {
        "colab": {
          "base_uri": "https://localhost:8080/"
        },
        "id": "50FNMEoj4rvO",
        "outputId": "5ad1b3e8-c27d-41e2-ea80-18654d117dff"
      },
      "source": [
        "indicador_deuda2\r\n",
        "indicador_deuda2 = indicador_deuda2.filter(lambda x: x.isdigit())\r\n",
        "indicador_deuda2 = indicador_deuda2.map(lambda x: float(x))\r\n",
        "\r\n",
        "indicador_deuda2.mean() #DT.DIS.BLAT.CD"
      ],
      "execution_count": null,
      "outputs": [
        {
          "output_type": "execute_result",
          "data": {
            "text/plain": [
              "506624979.33333343"
            ]
          },
          "metadata": {
            "tags": []
          },
          "execution_count": 34
        }
      ]
    },
    {
      "cell_type": "code",
      "metadata": {
        "colab": {
          "base_uri": "https://localhost:8080/"
        },
        "id": "Mzyipkul5R5_",
        "outputId": "9965a3f5-01ac-4fd6-b234-bba48d3982d9"
      },
      "source": [
        "indicador_deuda3\r\n",
        "indicador_deuda3 = indicador_deuda3.filter(lambda x: x.isdigit())\r\n",
        "indicador_deuda3 = indicador_deuda3.map(lambda x: float(x))\r\n",
        "indicador_deuda3.mean() #DT.INT.BLAT.CD"
      ],
      "execution_count": null,
      "outputs": [
        {
          "output_type": "execute_result",
          "data": {
            "text/plain": [
              "53762351.333333336"
            ]
          },
          "metadata": {
            "tags": []
          },
          "execution_count": 35
        }
      ]
    },
    {
      "cell_type": "code",
      "metadata": {
        "colab": {
          "base_uri": "https://localhost:8080/"
        },
        "id": "Kpk55DS_5hnn",
        "outputId": "1e88e60c-e40a-41f9-a501-2c89ebef323b"
      },
      "source": [
        "media_total = (indicador_deuda1.mean() + indicador_deuda2.mean() +indicador_deuda3.mean())/3\r\n",
        "media_total # Media de las 3"
      ],
      "execution_count": null,
      "outputs": [
        {
          "output_type": "execute_result",
          "data": {
            "text/plain": [
              "207267993.59259263"
            ]
          },
          "metadata": {
            "tags": []
          },
          "execution_count": 36
        }
      ]
    },
    {
      "cell_type": "markdown",
      "metadata": {
        "id": "5Jk3csF0HexP"
      },
      "source": [
        "##### 5. Los 20 paises con DT.AMT.DLXF.CD más alto"
      ]
    },
    {
      "cell_type": "code",
      "metadata": {
        "id": "JIae3O3Y6OMH"
      },
      "source": [
        "indicador_deuda4 = indicadores_deuda_clean.map(lambda x: (x[3], x[0])) # Hay que coger primero el numero y despues el nombre del pais porque la funcion top coge la primera columna, y lo que buscamos saber es el top 20 de DT.AMT.DLXF.CD\r\n"
      ],
      "execution_count": null,
      "outputs": []
    },
    {
      "cell_type": "code",
      "metadata": {
        "colab": {
          "base_uri": "https://localhost:8080/"
        },
        "id": "3h0PDsjq6OX-",
        "outputId": "083f549e-15f6-483b-ef67-801a015a4e53"
      },
      "source": [
        "indicador_deuda4.top(20)"
      ],
      "execution_count": null,
      "outputs": [
        {
          "output_type": "execute_result",
          "data": {
            "text/plain": [
              "[('979241934.4', \"Cote d'Ivoire\"),\n",
              " ('96218620835.7', 'China'),\n",
              " ('9506919669.6', 'Lebanon'),\n",
              " ('9474257551.9', 'South Africa'),\n",
              " ('90041840304.1', 'Brazil'),\n",
              " ('8873505909.2', 'Vietnam'),\n",
              " ('845630723.8', 'Armenia'),\n",
              " ('8336013891.3', 'Pakistan'),\n",
              " ('83185188.3', 'Djibouti'),\n",
              " ('825000', 'Timor-Leste'),\n",
              " ('816419045.1', 'Kyrgyz Republic'),\n",
              " ('8148995625.6', 'Ukraine'),\n",
              " ('790248675.2', 'Albania'),\n",
              " ('775955981.3', 'Cambodia'),\n",
              " ('769232867', 'Moldova'),\n",
              " ('73812591.8', 'Togo'),\n",
              " ('70570550.3', '\"Macedonia'),\n",
              " ('6949184320.5', '\"Egypt'),\n",
              " ('6783629.1', 'Guinea-Bissau'),\n",
              " ('67728445.9', 'Cabo Verde')]"
            ]
          },
          "metadata": {
            "tags": []
          },
          "execution_count": 38
        }
      ]
    },
    {
      "cell_type": "markdown",
      "metadata": {
        "id": "U16cddOYHexQ"
      },
      "source": [
        "##### 6. Pais con los datos informados todos los años."
      ]
    },
    {
      "cell_type": "code",
      "metadata": {
        "colab": {
          "base_uri": "https://localhost:8080/"
        },
        "id": "9lMTEDMqyDSQ",
        "outputId": "8169d286-5f87-44be-aaad-7db2ad05ecdd"
      },
      "source": [
        "indicadores_desarrollo_clean.take(5)"
      ],
      "execution_count": null,
      "outputs": [
        {
          "output_type": "execute_result",
          "data": {
            "text/plain": [
              "[['Albania',\n",
              "  'ALB',\n",
              "  '2014 [YR2014]',\n",
              "  '1023040800000',\n",
              "  '73.3202469198429',\n",
              "  '12.259'],\n",
              " ['Albania',\n",
              "  'ALB',\n",
              "  '2015 [YR2015]',\n",
              "  '1145500940000',\n",
              "  '79.8644448747259',\n",
              "  '12.197'],\n",
              " ['Albania',\n",
              "  'ALB',\n",
              "  '2016 [YR2016]',\n",
              "  '1188814490000',\n",
              "  '80.7355748396923',\n",
              "  '12.08'],\n",
              " ['Australia',\n",
              "  'AUS',\n",
              "  '2014 [YR2014]',\n",
              "  '674700000',\n",
              "  '0.042207528166503',\n",
              "  '13.2'],\n",
              " ['Australia',\n",
              "  'AUS',\n",
              "  '2015 [YR2015]',\n",
              "  '762718000',\n",
              "  '0.0469480198522591',\n",
              "  '12.9']]"
            ]
          },
          "metadata": {
            "tags": []
          },
          "execution_count": 39
        }
      ]
    },
    {
      "cell_type": "code",
      "metadata": {
        "colab": {
          "base_uri": "https://localhost:8080/"
        },
        "id": "hY8dekg1ywU6",
        "outputId": "1a48e575-093d-4347-c932-a49095e558d0"
      },
      "source": [
        "number_of_countries = indicadores_desarrollo_clean.map(lambda x: (x[0],1)) # asi conseguimos sumar 1 cada vez que aparezca el pais en el dataset\r\n",
        "number_of_years = number_of_countries.countByKey()\r\n",
        "number_of_years #Podemos observar que Malawi es el unico que tiene 4 años"
      ],
      "execution_count": null,
      "outputs": [
        {
          "output_type": "execute_result",
          "data": {
            "text/plain": [
              "defaultdict(int,\n",
              "            {'\"Bahamas': 3,\n",
              "             '\"Korea': 3,\n",
              "             '\"Micronesia': 3,\n",
              "             'Albania': 3,\n",
              "             'Australia': 3,\n",
              "             'Barbados': 2,\n",
              "             'Belarus': 3,\n",
              "             'Belize': 1,\n",
              "             'Bhutan': 3,\n",
              "             'Botswana': 3,\n",
              "             'Brazil': 3,\n",
              "             'Colombia': 3,\n",
              "             'El Salvador': 3,\n",
              "             'Georgia': 3,\n",
              "             'Guatemala': 3,\n",
              "             'Hungary': 3,\n",
              "             'Indonesia': 3,\n",
              "             'Ireland': 3,\n",
              "             'Jamaica': 3,\n",
              "             'Japan': 3,\n",
              "             'Jordan': 2,\n",
              "             'Kazakhstan': 3,\n",
              "             'Kyrgyz Republic': 3,\n",
              "             'Malawi': 4,\n",
              "             'Malaysia': 3,\n",
              "             'Moldova': 3,\n",
              "             'Namibia': 1,\n",
              "             'New Zealand': 3,\n",
              "             'Palau': 3,\n",
              "             'Papua New Guinea': 2,\n",
              "             'Peru': 3,\n",
              "             'Philippines': 1,\n",
              "             'Russian Federation': 3,\n",
              "             'San Marino': 2,\n",
              "             'Seychelles': 2,\n",
              "             'Singapore': 3,\n",
              "             'Solomon Islands': 3,\n",
              "             'Spain': 3,\n",
              "             'Sri Lanka': 2,\n",
              "             'St. Kitts and Nevis': 1,\n",
              "             'St. Lucia': 1,\n",
              "             'St. Vincent and the Grenadines': 1,\n",
              "             'Switzerland': 3,\n",
              "             'Thailand': 2,\n",
              "             'Tonga': 3,\n",
              "             'Turkey': 3,\n",
              "             'Ukraine': 3,\n",
              "             'United Kingdom': 3,\n",
              "             'United States': 3,\n",
              "             'Uruguay': 3,\n",
              "             'Zambia': 2})"
            ]
          },
          "metadata": {
            "tags": []
          },
          "execution_count": 40
        }
      ]
    },
    {
      "cell_type": "markdown",
      "metadata": {
        "id": "CqtjWyBdHexQ"
      },
      "source": [
        "##### 7. Media anual de los distintos indicadores de desarrollo"
      ]
    },
    {
      "cell_type": "code",
      "metadata": {
        "colab": {
          "base_uri": "https://localhost:8080/"
        },
        "id": "r-K5UOdy0kjO",
        "outputId": "db40ed80-5e3d-40d1-a09f-d4251277ea48"
      },
      "source": [
        "indicadores_desarrollo_clean.take(5)"
      ],
      "execution_count": null,
      "outputs": [
        {
          "output_type": "execute_result",
          "data": {
            "text/plain": [
              "[['Albania',\n",
              "  'ALB',\n",
              "  '2014 [YR2014]',\n",
              "  '1023040800000',\n",
              "  '73.3202469198429',\n",
              "  '12.259'],\n",
              " ['Albania',\n",
              "  'ALB',\n",
              "  '2015 [YR2015]',\n",
              "  '1145500940000',\n",
              "  '79.8644448747259',\n",
              "  '12.197'],\n",
              " ['Albania',\n",
              "  'ALB',\n",
              "  '2016 [YR2016]',\n",
              "  '1188814490000',\n",
              "  '80.7355748396923',\n",
              "  '12.08'],\n",
              " ['Australia',\n",
              "  'AUS',\n",
              "  '2014 [YR2014]',\n",
              "  '674700000',\n",
              "  '0.042207528166503',\n",
              "  '13.2'],\n",
              " ['Australia',\n",
              "  'AUS',\n",
              "  '2015 [YR2015]',\n",
              "  '762718000',\n",
              "  '0.0469480198522591',\n",
              "  '12.9']]"
            ]
          },
          "metadata": {
            "tags": []
          },
          "execution_count": 41
        }
      ]
    },
    {
      "cell_type": "markdown",
      "metadata": {
        "id": "Spt7alsZ1X1f"
      },
      "source": [
        "Existen datos que tienen 7 columnas en lugar de 6, como son todos aquellos paises que tienen un \"The\" delante como Bahamas, un \"Rep.\" como es el caso de Korea o un \"Fed. Sts.\" como es Micronesia. Esto nos da errores a la hora de calcular la media por columnas, es por ello que vamos a separarlos en otro RDD,eliminar esa columna extra y volver a introducirlos una vez esten formateados.\r\n"
      ]
    },
    {
      "cell_type": "code",
      "metadata": {
        "id": "NNz6YMN-0y9Z"
      },
      "source": [
        "dist_format_data = indicadores_desarrollo_clean.filter(lambda x: (len(x) != 6))\r\n"
      ],
      "execution_count": null,
      "outputs": []
    },
    {
      "cell_type": "code",
      "metadata": {
        "colab": {
          "base_uri": "https://localhost:8080/"
        },
        "id": "97_NXU6r1Oju",
        "outputId": "8dd26f8b-20e6-480b-c5bb-eb01978f84f6"
      },
      "source": [
        "dist_format_data.take(10)"
      ],
      "execution_count": null,
      "outputs": [
        {
          "output_type": "execute_result",
          "data": {
            "text/plain": [
              "[['\"Bahamas',\n",
              "  ' The\"',\n",
              "  'BHS',\n",
              "  '2014 [YR2014]',\n",
              "  '5158420000',\n",
              "  '47.2672793747079',\n",
              "  '14.34'],\n",
              " ['\"Bahamas',\n",
              "  ' The\"',\n",
              "  'BHS',\n",
              "  '2015 [YR2015]',\n",
              "  '5655150000',\n",
              "  '48.1195170307089',\n",
              "  '14.224'],\n",
              " ['\"Bahamas',\n",
              "  ' The\"',\n",
              "  'BHS',\n",
              "  '2016 [YR2016]',\n",
              "  '6138814000',\n",
              "  '51.4207431481606',\n",
              "  '14.131'],\n",
              " ['\"Korea',\n",
              "  ' Rep.\"',\n",
              "  'KOR',\n",
              "  '2014 [YR2014]',\n",
              "  '570473174969116',\n",
              "  '38.3878017121372',\n",
              "  '8.6'],\n",
              " ['\"Korea',\n",
              "  ' Rep.\"',\n",
              "  'KOR',\n",
              "  '2015 [YR2015]',\n",
              "  '621640877442310',\n",
              "  '39.7437106767763',\n",
              "  '8.6'],\n",
              " ['\"Korea',\n",
              "  ' Rep.\"',\n",
              "  'KOR',\n",
              "  '2016 [YR2016]',\n",
              "  '662636705078292',\n",
              "  '40.3607233268095',\n",
              "  '7.9'],\n",
              " ['\"Micronesia',\n",
              "  ' Fed. Sts.\"',\n",
              "  'FSM',\n",
              "  '2014 [YR2014]',\n",
              "  '74676687',\n",
              "  '23.3897380060743',\n",
              "  '23.365'],\n",
              " ['\"Micronesia',\n",
              "  ' Fed. Sts.\"',\n",
              "  'FSM',\n",
              "  '2015 [YR2015]',\n",
              "  '94767029',\n",
              "  '29.9431402956919',\n",
              "  '23.213'],\n",
              " ['\"Micronesia',\n",
              "  ' Fed. Sts.\"',\n",
              "  'FSM',\n",
              "  '2016 [YR2016]',\n",
              "  '84368040',\n",
              "  '25.3917802774832',\n",
              "  '23.069']]"
            ]
          },
          "metadata": {
            "tags": []
          },
          "execution_count": 43
        }
      ]
    },
    {
      "cell_type": "code",
      "metadata": {
        "id": "3fBdVxHV1Omn"
      },
      "source": [
        "dist_format_data = dist_format_data.map(lambda x: (x[0],x[2],x[3],x[4],x[5],x[6])) # Eliminamos la columna del Prefijo, que daba problemas\r\n",
        "desarrollo_limpio = indicadores_desarrollo_clean.filter(lambda x: (len(x)== 6))\r\n",
        "desarrollo_limpio = desarrollo_limpio.union(dist_format_data) # Aqui ya tenemos el Rdd limpio y con el mismo formato"
      ],
      "execution_count": null,
      "outputs": []
    },
    {
      "cell_type": "code",
      "metadata": {
        "colab": {
          "base_uri": "https://localhost:8080/"
        },
        "id": "1cd5MpBp1Osi",
        "outputId": "a44eaecc-cf4c-4360-bf15-9cfc978cb9ca"
      },
      "source": [
        "desarrollo_limpio.take(3)\r\n"
      ],
      "execution_count": null,
      "outputs": [
        {
          "output_type": "execute_result",
          "data": {
            "text/plain": [
              "[['Albania',\n",
              "  'ALB',\n",
              "  '2014 [YR2014]',\n",
              "  '1023040800000',\n",
              "  '73.3202469198429',\n",
              "  '12.259'],\n",
              " ['Albania',\n",
              "  'ALB',\n",
              "  '2015 [YR2015]',\n",
              "  '1145500940000',\n",
              "  '79.8644448747259',\n",
              "  '12.197'],\n",
              " ['Albania',\n",
              "  'ALB',\n",
              "  '2016 [YR2016]',\n",
              "  '1188814490000',\n",
              "  '80.7355748396923',\n",
              "  '12.08']]"
            ]
          },
          "metadata": {
            "tags": []
          },
          "execution_count": 45
        }
      ]
    },
    {
      "cell_type": "markdown",
      "metadata": {
        "id": "AyzGnSt-77f5"
      },
      "source": [
        "# GC.DOD.TOTL.CN"
      ]
    },
    {
      "cell_type": "markdown",
      "metadata": {
        "id": "PsWxKSyr5uue"
      },
      "source": [
        "Diferenciamos por años"
      ]
    },
    {
      "cell_type": "markdown",
      "metadata": {
        "id": "ghGbW8Mg6VCH"
      },
      "source": [
        "2014"
      ]
    },
    {
      "cell_type": "code",
      "metadata": {
        "colab": {
          "base_uri": "https://localhost:8080/"
        },
        "id": "3QQ0HNkT4cFZ",
        "outputId": "697fb819-90a5-4d09-8717-5a05fc6caac8"
      },
      "source": [
        "\r\n",
        "desarrollo_limpio2014 = desarrollo_limpio.filter(lambda x: x[2] == '2014 [YR2014]')\r\n",
        "desarrollo_limpio2014 = desarrollo_limpio2014.map(lambda x: x[3])\r\n",
        "desarrollo_limpio2014 = desarrollo_limpio2014.filter(lambda x: x.isdigit())\r\n",
        "desarrollo_limpio2014 = desarrollo_limpio2014.map(lambda x: int(x))\r\n",
        "desarrollo_limpio2014.mean()"
      ],
      "execution_count": null,
      "outputs": [
        {
          "output_type": "execute_result",
          "data": {
            "text/plain": [
              "124490773241364.06"
            ]
          },
          "metadata": {
            "tags": []
          },
          "execution_count": 46
        }
      ]
    },
    {
      "cell_type": "markdown",
      "metadata": {
        "id": "y4UvNf1a6QbT"
      },
      "source": [
        "2015\r\n"
      ]
    },
    {
      "cell_type": "code",
      "metadata": {
        "colab": {
          "base_uri": "https://localhost:8080/"
        },
        "id": "Uvi8RA9D6Poy",
        "outputId": "6eb5b21b-9b01-49a7-c205-a74e2d1b81e9"
      },
      "source": [
        "desarrollo_limpio2015 = desarrollo_limpio.filter(lambda x: x[2] == '2015 [YR2015]')\r\n",
        "desarrollo_limpio2015 = desarrollo_limpio2015.map(lambda x: x[3])\r\n",
        "desarrollo_limpio2015 = desarrollo_limpio2015.filter(lambda x: x.isdigit())\r\n",
        "desarrollo_limpio2015 = desarrollo_limpio2015.map(lambda x: int(x))\r\n",
        "desarrollo_limpio2015.mean()"
      ],
      "execution_count": null,
      "outputs": [
        {
          "output_type": "execute_result",
          "data": {
            "text/plain": [
              "187880226434130.88"
            ]
          },
          "metadata": {
            "tags": []
          },
          "execution_count": 47
        }
      ]
    },
    {
      "cell_type": "markdown",
      "metadata": {
        "id": "_A1T_KqS5tCQ"
      },
      "source": [
        "2016"
      ]
    },
    {
      "cell_type": "code",
      "metadata": {
        "colab": {
          "base_uri": "https://localhost:8080/"
        },
        "id": "8UjNBM8b6iEC",
        "outputId": "85a93590-0343-4aa3-9ac1-7c53b3ab5dcb"
      },
      "source": [
        "desarrollo_limpio2016 = desarrollo_limpio.filter(lambda x: x[2] == '2016 [YR2016]')\r\n",
        "desarrollo_limpio2016 = desarrollo_limpio2016.map(lambda x: x[3])\r\n",
        "desarrollo_limpio2016 = desarrollo_limpio2016.filter(lambda x: x.isdigit())\r\n",
        "desarrollo_limpio2016 = desarrollo_limpio2016.map(lambda x: int(x))\r\n",
        "desarrollo_limpio2016.mean()"
      ],
      "execution_count": null,
      "outputs": [
        {
          "output_type": "execute_result",
          "data": {
            "text/plain": [
              "266349830024277.47"
            ]
          },
          "metadata": {
            "tags": []
          },
          "execution_count": 48
        }
      ]
    },
    {
      "cell_type": "markdown",
      "metadata": {
        "id": "0mgVfcx_8BQc"
      },
      "source": [
        "# GC.DOD.TOTL.GD.ZS"
      ]
    },
    {
      "cell_type": "markdown",
      "metadata": {
        "id": "dJuw3njc8D9u"
      },
      "source": [
        "2014"
      ]
    },
    {
      "cell_type": "code",
      "metadata": {
        "colab": {
          "base_uri": "https://localhost:8080/",
          "height": 1000
        },
        "id": "BSdk2CZp8FAc",
        "outputId": "af0f8cb9-4ee4-4d82-9c82-10842d00eaaa"
      },
      "source": [
        "desarrollo_limpio2014 = desarrollo_limpio.filter(lambda x: x[2] == '2014 [YR2014]')\r\n",
        "desarrollo_limpio2014 = desarrollo_limpio2014.map(lambda x: x[4])\r\n",
        "desarrollo_limpio2014 = desarrollo_limpio2016.filter(lambda x: x.isdigit())\r\n",
        "\r\n",
        "desarrollo_limpio2014.mean()"
      ],
      "execution_count": null,
      "outputs": [
        {
          "output_type": "error",
          "ename": "Py4JJavaError",
          "evalue": "ignored",
          "traceback": [
            "\u001b[0;31m---------------------------------------------------------------------------\u001b[0m",
            "\u001b[0;31mPy4JJavaError\u001b[0m                             Traceback (most recent call last)",
            "\u001b[0;32m<ipython-input-50-ee23764d636c>\u001b[0m in \u001b[0;36m<module>\u001b[0;34m()\u001b[0m\n\u001b[1;32m      3\u001b[0m \u001b[0mdesarrollo_limpio2014\u001b[0m \u001b[0;34m=\u001b[0m \u001b[0mdesarrollo_limpio2016\u001b[0m\u001b[0;34m.\u001b[0m\u001b[0mfilter\u001b[0m\u001b[0;34m(\u001b[0m\u001b[0;32mlambda\u001b[0m \u001b[0mx\u001b[0m\u001b[0;34m:\u001b[0m \u001b[0mx\u001b[0m\u001b[0;34m.\u001b[0m\u001b[0misdigit\u001b[0m\u001b[0;34m(\u001b[0m\u001b[0;34m)\u001b[0m\u001b[0;34m)\u001b[0m\u001b[0;34m\u001b[0m\u001b[0;34m\u001b[0m\u001b[0m\n\u001b[1;32m      4\u001b[0m \u001b[0;34m\u001b[0m\u001b[0m\n\u001b[0;32m----> 5\u001b[0;31m \u001b[0mdesarrollo_limpio2014\u001b[0m\u001b[0;34m.\u001b[0m\u001b[0mmean\u001b[0m\u001b[0;34m(\u001b[0m\u001b[0;34m)\u001b[0m\u001b[0;34m\u001b[0m\u001b[0;34m\u001b[0m\u001b[0m\n\u001b[0m",
            "\u001b[0;32m/content/spark-2.4.7-bin-hadoop2.7/python/pyspark/rdd.py\u001b[0m in \u001b[0;36mmean\u001b[0;34m(self)\u001b[0m\n\u001b[1;32m   1200\u001b[0m         \u001b[0;36m2.0\u001b[0m\u001b[0;34m\u001b[0m\u001b[0;34m\u001b[0m\u001b[0m\n\u001b[1;32m   1201\u001b[0m         \"\"\"\n\u001b[0;32m-> 1202\u001b[0;31m         \u001b[0;32mreturn\u001b[0m \u001b[0mself\u001b[0m\u001b[0;34m.\u001b[0m\u001b[0mstats\u001b[0m\u001b[0;34m(\u001b[0m\u001b[0;34m)\u001b[0m\u001b[0;34m.\u001b[0m\u001b[0mmean\u001b[0m\u001b[0;34m(\u001b[0m\u001b[0;34m)\u001b[0m\u001b[0;34m\u001b[0m\u001b[0;34m\u001b[0m\u001b[0m\n\u001b[0m\u001b[1;32m   1203\u001b[0m \u001b[0;34m\u001b[0m\u001b[0m\n\u001b[1;32m   1204\u001b[0m     \u001b[0;32mdef\u001b[0m \u001b[0mvariance\u001b[0m\u001b[0;34m(\u001b[0m\u001b[0mself\u001b[0m\u001b[0;34m)\u001b[0m\u001b[0;34m:\u001b[0m\u001b[0;34m\u001b[0m\u001b[0;34m\u001b[0m\u001b[0m\n",
            "\u001b[0;32m/content/spark-2.4.7-bin-hadoop2.7/python/pyspark/rdd.py\u001b[0m in \u001b[0;36mstats\u001b[0;34m(self)\u001b[0m\n\u001b[1;32m   1063\u001b[0m             \u001b[0;32mreturn\u001b[0m \u001b[0mleft_counter\u001b[0m\u001b[0;34m.\u001b[0m\u001b[0mmergeStats\u001b[0m\u001b[0;34m(\u001b[0m\u001b[0mright_counter\u001b[0m\u001b[0;34m)\u001b[0m\u001b[0;34m\u001b[0m\u001b[0;34m\u001b[0m\u001b[0m\n\u001b[1;32m   1064\u001b[0m \u001b[0;34m\u001b[0m\u001b[0m\n\u001b[0;32m-> 1065\u001b[0;31m         \u001b[0;32mreturn\u001b[0m \u001b[0mself\u001b[0m\u001b[0;34m.\u001b[0m\u001b[0mmapPartitions\u001b[0m\u001b[0;34m(\u001b[0m\u001b[0;32mlambda\u001b[0m \u001b[0mi\u001b[0m\u001b[0;34m:\u001b[0m \u001b[0;34m[\u001b[0m\u001b[0mStatCounter\u001b[0m\u001b[0;34m(\u001b[0m\u001b[0mi\u001b[0m\u001b[0;34m)\u001b[0m\u001b[0;34m]\u001b[0m\u001b[0;34m)\u001b[0m\u001b[0;34m.\u001b[0m\u001b[0mreduce\u001b[0m\u001b[0;34m(\u001b[0m\u001b[0mredFunc\u001b[0m\u001b[0;34m)\u001b[0m\u001b[0;34m\u001b[0m\u001b[0;34m\u001b[0m\u001b[0m\n\u001b[0m\u001b[1;32m   1066\u001b[0m \u001b[0;34m\u001b[0m\u001b[0m\n\u001b[1;32m   1067\u001b[0m     \u001b[0;32mdef\u001b[0m \u001b[0mhistogram\u001b[0m\u001b[0;34m(\u001b[0m\u001b[0mself\u001b[0m\u001b[0;34m,\u001b[0m \u001b[0mbuckets\u001b[0m\u001b[0;34m)\u001b[0m\u001b[0;34m:\u001b[0m\u001b[0;34m\u001b[0m\u001b[0;34m\u001b[0m\u001b[0m\n",
            "\u001b[0;32m/content/spark-2.4.7-bin-hadoop2.7/python/pyspark/rdd.py\u001b[0m in \u001b[0;36mreduce\u001b[0;34m(self, f)\u001b[0m\n\u001b[1;32m    842\u001b[0m             \u001b[0;32myield\u001b[0m \u001b[0mreduce\u001b[0m\u001b[0;34m(\u001b[0m\u001b[0mf\u001b[0m\u001b[0;34m,\u001b[0m \u001b[0miterator\u001b[0m\u001b[0;34m,\u001b[0m \u001b[0minitial\u001b[0m\u001b[0;34m)\u001b[0m\u001b[0;34m\u001b[0m\u001b[0;34m\u001b[0m\u001b[0m\n\u001b[1;32m    843\u001b[0m \u001b[0;34m\u001b[0m\u001b[0m\n\u001b[0;32m--> 844\u001b[0;31m         \u001b[0mvals\u001b[0m \u001b[0;34m=\u001b[0m \u001b[0mself\u001b[0m\u001b[0;34m.\u001b[0m\u001b[0mmapPartitions\u001b[0m\u001b[0;34m(\u001b[0m\u001b[0mfunc\u001b[0m\u001b[0;34m)\u001b[0m\u001b[0;34m.\u001b[0m\u001b[0mcollect\u001b[0m\u001b[0;34m(\u001b[0m\u001b[0;34m)\u001b[0m\u001b[0;34m\u001b[0m\u001b[0;34m\u001b[0m\u001b[0m\n\u001b[0m\u001b[1;32m    845\u001b[0m         \u001b[0;32mif\u001b[0m \u001b[0mvals\u001b[0m\u001b[0;34m:\u001b[0m\u001b[0;34m\u001b[0m\u001b[0;34m\u001b[0m\u001b[0m\n\u001b[1;32m    846\u001b[0m             \u001b[0;32mreturn\u001b[0m \u001b[0mreduce\u001b[0m\u001b[0;34m(\u001b[0m\u001b[0mf\u001b[0m\u001b[0;34m,\u001b[0m \u001b[0mvals\u001b[0m\u001b[0;34m)\u001b[0m\u001b[0;34m\u001b[0m\u001b[0;34m\u001b[0m\u001b[0m\n",
            "\u001b[0;32m/content/spark-2.4.7-bin-hadoop2.7/python/pyspark/rdd.py\u001b[0m in \u001b[0;36mcollect\u001b[0;34m(self)\u001b[0m\n\u001b[1;32m    814\u001b[0m         \"\"\"\n\u001b[1;32m    815\u001b[0m         \u001b[0;32mwith\u001b[0m \u001b[0mSCCallSiteSync\u001b[0m\u001b[0;34m(\u001b[0m\u001b[0mself\u001b[0m\u001b[0;34m.\u001b[0m\u001b[0mcontext\u001b[0m\u001b[0;34m)\u001b[0m \u001b[0;32mas\u001b[0m \u001b[0mcss\u001b[0m\u001b[0;34m:\u001b[0m\u001b[0;34m\u001b[0m\u001b[0;34m\u001b[0m\u001b[0m\n\u001b[0;32m--> 816\u001b[0;31m             \u001b[0msock_info\u001b[0m \u001b[0;34m=\u001b[0m \u001b[0mself\u001b[0m\u001b[0;34m.\u001b[0m\u001b[0mctx\u001b[0m\u001b[0;34m.\u001b[0m\u001b[0m_jvm\u001b[0m\u001b[0;34m.\u001b[0m\u001b[0mPythonRDD\u001b[0m\u001b[0;34m.\u001b[0m\u001b[0mcollectAndServe\u001b[0m\u001b[0;34m(\u001b[0m\u001b[0mself\u001b[0m\u001b[0;34m.\u001b[0m\u001b[0m_jrdd\u001b[0m\u001b[0;34m.\u001b[0m\u001b[0mrdd\u001b[0m\u001b[0;34m(\u001b[0m\u001b[0;34m)\u001b[0m\u001b[0;34m)\u001b[0m\u001b[0;34m\u001b[0m\u001b[0;34m\u001b[0m\u001b[0m\n\u001b[0m\u001b[1;32m    817\u001b[0m         \u001b[0;32mreturn\u001b[0m \u001b[0mlist\u001b[0m\u001b[0;34m(\u001b[0m\u001b[0m_load_from_socket\u001b[0m\u001b[0;34m(\u001b[0m\u001b[0msock_info\u001b[0m\u001b[0;34m,\u001b[0m \u001b[0mself\u001b[0m\u001b[0;34m.\u001b[0m\u001b[0m_jrdd_deserializer\u001b[0m\u001b[0;34m)\u001b[0m\u001b[0;34m)\u001b[0m\u001b[0;34m\u001b[0m\u001b[0;34m\u001b[0m\u001b[0m\n\u001b[1;32m    818\u001b[0m \u001b[0;34m\u001b[0m\u001b[0m\n",
            "\u001b[0;32m/content/spark-2.4.7-bin-hadoop2.7/python/lib/py4j-0.10.7-src.zip/py4j/java_gateway.py\u001b[0m in \u001b[0;36m__call__\u001b[0;34m(self, *args)\u001b[0m\n\u001b[1;32m   1255\u001b[0m         \u001b[0manswer\u001b[0m \u001b[0;34m=\u001b[0m \u001b[0mself\u001b[0m\u001b[0;34m.\u001b[0m\u001b[0mgateway_client\u001b[0m\u001b[0;34m.\u001b[0m\u001b[0msend_command\u001b[0m\u001b[0;34m(\u001b[0m\u001b[0mcommand\u001b[0m\u001b[0;34m)\u001b[0m\u001b[0;34m\u001b[0m\u001b[0;34m\u001b[0m\u001b[0m\n\u001b[1;32m   1256\u001b[0m         return_value = get_return_value(\n\u001b[0;32m-> 1257\u001b[0;31m             answer, self.gateway_client, self.target_id, self.name)\n\u001b[0m\u001b[1;32m   1258\u001b[0m \u001b[0;34m\u001b[0m\u001b[0m\n\u001b[1;32m   1259\u001b[0m         \u001b[0;32mfor\u001b[0m \u001b[0mtemp_arg\u001b[0m \u001b[0;32min\u001b[0m \u001b[0mtemp_args\u001b[0m\u001b[0;34m:\u001b[0m\u001b[0;34m\u001b[0m\u001b[0;34m\u001b[0m\u001b[0m\n",
            "\u001b[0;32m/content/spark-2.4.7-bin-hadoop2.7/python/pyspark/sql/utils.py\u001b[0m in \u001b[0;36mdeco\u001b[0;34m(*a, **kw)\u001b[0m\n\u001b[1;32m     61\u001b[0m     \u001b[0;32mdef\u001b[0m \u001b[0mdeco\u001b[0m\u001b[0;34m(\u001b[0m\u001b[0;34m*\u001b[0m\u001b[0ma\u001b[0m\u001b[0;34m,\u001b[0m \u001b[0;34m**\u001b[0m\u001b[0mkw\u001b[0m\u001b[0;34m)\u001b[0m\u001b[0;34m:\u001b[0m\u001b[0;34m\u001b[0m\u001b[0;34m\u001b[0m\u001b[0m\n\u001b[1;32m     62\u001b[0m         \u001b[0;32mtry\u001b[0m\u001b[0;34m:\u001b[0m\u001b[0;34m\u001b[0m\u001b[0;34m\u001b[0m\u001b[0m\n\u001b[0;32m---> 63\u001b[0;31m             \u001b[0;32mreturn\u001b[0m \u001b[0mf\u001b[0m\u001b[0;34m(\u001b[0m\u001b[0;34m*\u001b[0m\u001b[0ma\u001b[0m\u001b[0;34m,\u001b[0m \u001b[0;34m**\u001b[0m\u001b[0mkw\u001b[0m\u001b[0;34m)\u001b[0m\u001b[0;34m\u001b[0m\u001b[0;34m\u001b[0m\u001b[0m\n\u001b[0m\u001b[1;32m     64\u001b[0m         \u001b[0;32mexcept\u001b[0m \u001b[0mpy4j\u001b[0m\u001b[0;34m.\u001b[0m\u001b[0mprotocol\u001b[0m\u001b[0;34m.\u001b[0m\u001b[0mPy4JJavaError\u001b[0m \u001b[0;32mas\u001b[0m \u001b[0me\u001b[0m\u001b[0;34m:\u001b[0m\u001b[0;34m\u001b[0m\u001b[0;34m\u001b[0m\u001b[0m\n\u001b[1;32m     65\u001b[0m             \u001b[0ms\u001b[0m \u001b[0;34m=\u001b[0m \u001b[0me\u001b[0m\u001b[0;34m.\u001b[0m\u001b[0mjava_exception\u001b[0m\u001b[0;34m.\u001b[0m\u001b[0mtoString\u001b[0m\u001b[0;34m(\u001b[0m\u001b[0;34m)\u001b[0m\u001b[0;34m\u001b[0m\u001b[0;34m\u001b[0m\u001b[0m\n",
            "\u001b[0;32m/content/spark-2.4.7-bin-hadoop2.7/python/lib/py4j-0.10.7-src.zip/py4j/protocol.py\u001b[0m in \u001b[0;36mget_return_value\u001b[0;34m(answer, gateway_client, target_id, name)\u001b[0m\n\u001b[1;32m    326\u001b[0m                 raise Py4JJavaError(\n\u001b[1;32m    327\u001b[0m                     \u001b[0;34m\"An error occurred while calling {0}{1}{2}.\\n\"\u001b[0m\u001b[0;34m.\u001b[0m\u001b[0;34m\u001b[0m\u001b[0;34m\u001b[0m\u001b[0m\n\u001b[0;32m--> 328\u001b[0;31m                     format(target_id, \".\", name), value)\n\u001b[0m\u001b[1;32m    329\u001b[0m             \u001b[0;32melse\u001b[0m\u001b[0;34m:\u001b[0m\u001b[0;34m\u001b[0m\u001b[0;34m\u001b[0m\u001b[0m\n\u001b[1;32m    330\u001b[0m                 raise Py4JError(\n",
            "\u001b[0;31mPy4JJavaError\u001b[0m: An error occurred while calling z:org.apache.spark.api.python.PythonRDD.collectAndServe.\n: org.apache.spark.SparkException: Job aborted due to stage failure: Task 1 in stage 45.0 failed 1 times, most recent failure: Lost task 1.0 in stage 45.0 (TID 70, localhost, executor driver): org.apache.spark.api.python.PythonException: Traceback (most recent call last):\n  File \"/content/spark-2.4.7-bin-hadoop2.7/python/lib/pyspark.zip/pyspark/worker.py\", line 377, in main\n    process()\n  File \"/content/spark-2.4.7-bin-hadoop2.7/python/lib/pyspark.zip/pyspark/worker.py\", line 372, in process\n    serializer.dump_stream(func(split_index, iterator), outfile)\n  File \"/content/spark-2.4.7-bin-hadoop2.7/python/pyspark/rdd.py\", line 2499, in pipeline_func\n    return func(split, prev_func(split, iterator))\n  File \"/content/spark-2.4.7-bin-hadoop2.7/python/pyspark/rdd.py\", line 2499, in pipeline_func\n    return func(split, prev_func(split, iterator))\n  File \"/content/spark-2.4.7-bin-hadoop2.7/python/pyspark/rdd.py\", line 352, in func\n    return f(iterator)\n  File \"/content/spark-2.4.7-bin-hadoop2.7/python/pyspark/rdd.py\", line 1065, in <lambda>\n    return self.mapPartitions(lambda i: [StatCounter(i)]).reduce(redFunc)\n  File \"/content/spark-2.4.7-bin-hadoop2.7/python/lib/pyspark.zip/pyspark/statcounter.py\", line 42, in __init__\n    for v in values:\n  File \"/content/spark-2.4.7-bin-hadoop2.7/python/lib/pyspark.zip/pyspark/util.py\", line 99, in wrapper\n    return f(*args, **kwargs)\n  File \"<ipython-input-50-ee23764d636c>\", line 3, in <lambda>\nAttributeError: 'int' object has no attribute 'isdigit'\n\n\tat org.apache.spark.api.python.BasePythonRunner$ReaderIterator.handlePythonException(PythonRunner.scala:456)\n\tat org.apache.spark.api.python.PythonRunner$$anon$1.read(PythonRunner.scala:592)\n\tat org.apache.spark.api.python.PythonRunner$$anon$1.read(PythonRunner.scala:575)\n\tat org.apache.spark.api.python.BasePythonRunner$ReaderIterator.hasNext(PythonRunner.scala:410)\n\tat org.apache.spark.InterruptibleIterator.hasNext(InterruptibleIterator.scala:37)\n\tat scala.collection.Iterator$class.foreach(Iterator.scala:891)\n\tat org.apache.spark.InterruptibleIterator.foreach(InterruptibleIterator.scala:28)\n\tat scala.collection.generic.Growable$class.$plus$plus$eq(Growable.scala:59)\n\tat scala.collection.mutable.ArrayBuffer.$plus$plus$eq(ArrayBuffer.scala:104)\n\tat scala.collection.mutable.ArrayBuffer.$plus$plus$eq(ArrayBuffer.scala:48)\n\tat scala.collection.TraversableOnce$class.to(TraversableOnce.scala:310)\n\tat org.apache.spark.InterruptibleIterator.to(InterruptibleIterator.scala:28)\n\tat scala.collection.TraversableOnce$class.toBuffer(TraversableOnce.scala:302)\n\tat org.apache.spark.InterruptibleIterator.toBuffer(InterruptibleIterator.scala:28)\n\tat scala.collection.TraversableOnce$class.toArray(TraversableOnce.scala:289)\n\tat org.apache.spark.InterruptibleIterator.toArray(InterruptibleIterator.scala:28)\n\tat org.apache.spark.rdd.RDD$$anonfun$collect$1$$anonfun$15.apply(RDD.scala:990)\n\tat org.apache.spark.rdd.RDD$$anonfun$collect$1$$anonfun$15.apply(RDD.scala:990)\n\tat org.apache.spark.SparkContext$$anonfun$runJob$5.apply(SparkContext.scala:2101)\n\tat org.apache.spark.SparkContext$$anonfun$runJob$5.apply(SparkContext.scala:2101)\n\tat org.apache.spark.scheduler.ResultTask.runTask(ResultTask.scala:90)\n\tat org.apache.spark.scheduler.Task.run(Task.scala:123)\n\tat org.apache.spark.executor.Executor$TaskRunner$$anonfun$10.apply(Executor.scala:408)\n\tat org.apache.spark.util.Utils$.tryWithSafeFinally(Utils.scala:1360)\n\tat org.apache.spark.executor.Executor$TaskRunner.run(Executor.scala:414)\n\tat java.util.concurrent.ThreadPoolExecutor.runWorker(ThreadPoolExecutor.java:1149)\n\tat java.util.concurrent.ThreadPoolExecutor$Worker.run(ThreadPoolExecutor.java:624)\n\tat java.lang.Thread.run(Thread.java:748)\n\nDriver stacktrace:\n\tat org.apache.spark.scheduler.DAGScheduler.org$apache$spark$scheduler$DAGScheduler$$failJobAndIndependentStages(DAGScheduler.scala:1925)\n\tat org.apache.spark.scheduler.DAGScheduler$$anonfun$abortStage$1.apply(DAGScheduler.scala:1913)\n\tat org.apache.spark.scheduler.DAGScheduler$$anonfun$abortStage$1.apply(DAGScheduler.scala:1912)\n\tat scala.collection.mutable.ResizableArray$class.foreach(ResizableArray.scala:59)\n\tat scala.collection.mutable.ArrayBuffer.foreach(ArrayBuffer.scala:48)\n\tat org.apache.spark.scheduler.DAGScheduler.abortStage(DAGScheduler.scala:1912)\n\tat org.apache.spark.scheduler.DAGScheduler$$anonfun$handleTaskSetFailed$1.apply(DAGScheduler.scala:948)\n\tat org.apache.spark.scheduler.DAGScheduler$$anonfun$handleTaskSetFailed$1.apply(DAGScheduler.scala:948)\n\tat scala.Option.foreach(Option.scala:257)\n\tat org.apache.spark.scheduler.DAGScheduler.handleTaskSetFailed(DAGScheduler.scala:948)\n\tat org.apache.spark.scheduler.DAGSchedulerEventProcessLoop.doOnReceive(DAGScheduler.scala:2146)\n\tat org.apache.spark.scheduler.DAGSchedulerEventProcessLoop.onReceive(DAGScheduler.scala:2095)\n\tat org.apache.spark.scheduler.DAGSchedulerEventProcessLoop.onReceive(DAGScheduler.scala:2084)\n\tat org.apache.spark.util.EventLoop$$anon$1.run(EventLoop.scala:49)\n\tat org.apache.spark.scheduler.DAGScheduler.runJob(DAGScheduler.scala:759)\n\tat org.apache.spark.SparkContext.runJob(SparkContext.scala:2061)\n\tat org.apache.spark.SparkContext.runJob(SparkContext.scala:2082)\n\tat org.apache.spark.SparkContext.runJob(SparkContext.scala:2101)\n\tat org.apache.spark.SparkContext.runJob(SparkContext.scala:2126)\n\tat org.apache.spark.rdd.RDD$$anonfun$collect$1.apply(RDD.scala:990)\n\tat org.apache.spark.rdd.RDDOperationScope$.withScope(RDDOperationScope.scala:151)\n\tat org.apache.spark.rdd.RDDOperationScope$.withScope(RDDOperationScope.scala:112)\n\tat org.apache.spark.rdd.RDD.withScope(RDD.scala:385)\n\tat org.apache.spark.rdd.RDD.collect(RDD.scala:989)\n\tat org.apache.spark.api.python.PythonRDD$.collectAndServe(PythonRDD.scala:166)\n\tat org.apache.spark.api.python.PythonRDD.collectAndServe(PythonRDD.scala)\n\tat sun.reflect.NativeMethodAccessorImpl.invoke0(Native Method)\n\tat sun.reflect.NativeMethodAccessorImpl.invoke(NativeMethodAccessorImpl.java:62)\n\tat sun.reflect.DelegatingMethodAccessorImpl.invoke(DelegatingMethodAccessorImpl.java:43)\n\tat java.lang.reflect.Method.invoke(Method.java:498)\n\tat py4j.reflection.MethodInvoker.invoke(MethodInvoker.java:244)\n\tat py4j.reflection.ReflectionEngine.invoke(ReflectionEngine.java:357)\n\tat py4j.Gateway.invoke(Gateway.java:282)\n\tat py4j.commands.AbstractCommand.invokeMethod(AbstractCommand.java:132)\n\tat py4j.commands.CallCommand.execute(CallCommand.java:79)\n\tat py4j.GatewayConnection.run(GatewayConnection.java:238)\n\tat java.lang.Thread.run(Thread.java:748)\nCaused by: org.apache.spark.api.python.PythonException: Traceback (most recent call last):\n  File \"/content/spark-2.4.7-bin-hadoop2.7/python/lib/pyspark.zip/pyspark/worker.py\", line 377, in main\n    process()\n  File \"/content/spark-2.4.7-bin-hadoop2.7/python/lib/pyspark.zip/pyspark/worker.py\", line 372, in process\n    serializer.dump_stream(func(split_index, iterator), outfile)\n  File \"/content/spark-2.4.7-bin-hadoop2.7/python/pyspark/rdd.py\", line 2499, in pipeline_func\n    return func(split, prev_func(split, iterator))\n  File \"/content/spark-2.4.7-bin-hadoop2.7/python/pyspark/rdd.py\", line 2499, in pipeline_func\n    return func(split, prev_func(split, iterator))\n  File \"/content/spark-2.4.7-bin-hadoop2.7/python/pyspark/rdd.py\", line 352, in func\n    return f(iterator)\n  File \"/content/spark-2.4.7-bin-hadoop2.7/python/pyspark/rdd.py\", line 1065, in <lambda>\n    return self.mapPartitions(lambda i: [StatCounter(i)]).reduce(redFunc)\n  File \"/content/spark-2.4.7-bin-hadoop2.7/python/lib/pyspark.zip/pyspark/statcounter.py\", line 42, in __init__\n    for v in values:\n  File \"/content/spark-2.4.7-bin-hadoop2.7/python/lib/pyspark.zip/pyspark/util.py\", line 99, in wrapper\n    return f(*args, **kwargs)\n  File \"<ipython-input-50-ee23764d636c>\", line 3, in <lambda>\nAttributeError: 'int' object has no attribute 'isdigit'\n\n\tat org.apache.spark.api.python.BasePythonRunner$ReaderIterator.handlePythonException(PythonRunner.scala:456)\n\tat org.apache.spark.api.python.PythonRunner$$anon$1.read(PythonRunner.scala:592)\n\tat org.apache.spark.api.python.PythonRunner$$anon$1.read(PythonRunner.scala:575)\n\tat org.apache.spark.api.python.BasePythonRunner$ReaderIterator.hasNext(PythonRunner.scala:410)\n\tat org.apache.spark.InterruptibleIterator.hasNext(InterruptibleIterator.scala:37)\n\tat scala.collection.Iterator$class.foreach(Iterator.scala:891)\n\tat org.apache.spark.InterruptibleIterator.foreach(InterruptibleIterator.scala:28)\n\tat scala.collection.generic.Growable$class.$plus$plus$eq(Growable.scala:59)\n\tat scala.collection.mutable.ArrayBuffer.$plus$plus$eq(ArrayBuffer.scala:104)\n\tat scala.collection.mutable.ArrayBuffer.$plus$plus$eq(ArrayBuffer.scala:48)\n\tat scala.collection.TraversableOnce$class.to(TraversableOnce.scala:310)\n\tat org.apache.spark.InterruptibleIterator.to(InterruptibleIterator.scala:28)\n\tat scala.collection.TraversableOnce$class.toBuffer(TraversableOnce.scala:302)\n\tat org.apache.spark.InterruptibleIterator.toBuffer(InterruptibleIterator.scala:28)\n\tat scala.collection.TraversableOnce$class.toArray(TraversableOnce.scala:289)\n\tat org.apache.spark.InterruptibleIterator.toArray(InterruptibleIterator.scala:28)\n\tat org.apache.spark.rdd.RDD$$anonfun$collect$1$$anonfun$15.apply(RDD.scala:990)\n\tat org.apache.spark.rdd.RDD$$anonfun$collect$1$$anonfun$15.apply(RDD.scala:990)\n\tat org.apache.spark.SparkContext$$anonfun$runJob$5.apply(SparkContext.scala:2101)\n\tat org.apache.spark.SparkContext$$anonfun$runJob$5.apply(SparkContext.scala:2101)\n\tat org.apache.spark.scheduler.ResultTask.runTask(ResultTask.scala:90)\n\tat org.apache.spark.scheduler.Task.run(Task.scala:123)\n\tat org.apache.spark.executor.Executor$TaskRunner$$anonfun$10.apply(Executor.scala:408)\n\tat org.apache.spark.util.Utils$.tryWithSafeFinally(Utils.scala:1360)\n\tat org.apache.spark.executor.Executor$TaskRunner.run(Executor.scala:414)\n\tat java.util.concurrent.ThreadPoolExecutor.runWorker(ThreadPoolExecutor.java:1149)\n\tat java.util.concurrent.ThreadPoolExecutor$Worker.run(ThreadPoolExecutor.java:624)\n\t... 1 more\n"
          ]
        }
      ]
    },
    {
      "cell_type": "markdown",
      "metadata": {
        "id": "kpOrS8wq8FRv"
      },
      "source": [
        "2015"
      ]
    },
    {
      "cell_type": "code",
      "metadata": {
        "id": "xCY5X5sy8Hsy"
      },
      "source": [
        "desarrollo_limpio2015 = desarrollo_limpio.filter(lambda x: x[2] == '2015 [YR2015]')\r\n",
        "desarrollo_limpio2015 = desarrollo_limpio2015.map(lambda x: x[4])\r\n",
        "\r\n",
        "desarrollo_limpio2015 = desarrollo_limpio2015.map(lambda x: int(x))\r\n",
        "desarrollo_limpio2015.mean()"
      ],
      "execution_count": null,
      "outputs": []
    },
    {
      "cell_type": "markdown",
      "metadata": {
        "id": "3XStPdZv8H0A"
      },
      "source": [
        "2016"
      ]
    },
    {
      "cell_type": "code",
      "metadata": {
        "id": "ueNG5jYY8Ajc"
      },
      "source": [
        "desarrollo_limpio2016 = desarrollo_limpio.filter(lambda x: x[2] == '2016 [YR2016]')\r\n",
        "desarrollo_limpio2016 = desarrollo_limpio2016.map(lambda x: x[4])\r\n",
        "\r\n",
        "desarrollo_limpio2016 = desarrollo_limpio2016.map(lambda x: int(x))\r\n",
        "desarrollo_limpio2016.mean()"
      ],
      "execution_count": null,
      "outputs": []
    },
    {
      "cell_type": "markdown",
      "metadata": {
        "id": "MLRsyrlR9FoA"
      },
      "source": [
        "**SP.DYN.CBRT.IN**"
      ]
    },
    {
      "cell_type": "markdown",
      "metadata": {
        "id": "y1xykVNN9FyR"
      },
      "source": [
        "2014"
      ]
    },
    {
      "cell_type": "code",
      "metadata": {
        "id": "I26HSFfO9F_M"
      },
      "source": [
        "desarrollo_limpio2014 = desarrollo_limpio.filter(lambda x: x[2] == '2014 [YR2014]')\r\n",
        "desarrollo_limpio2014 = desarrollo_limpio2014.map(lambda x: x[5])\r\n",
        "desarrollo_limpio2014 = desarrollo_limpio2014.filter(lambda x: x.isdigit())\r\n",
        "desarrollo_limpio2014 = desarrollo_limpio2014.map(lambda x: int(x))\r\n",
        "desarrollo_limpio2014.mean()"
      ],
      "execution_count": null,
      "outputs": []
    },
    {
      "cell_type": "markdown",
      "metadata": {
        "id": "XnLU0vCo9GHH"
      },
      "source": [
        "2015"
      ]
    },
    {
      "cell_type": "code",
      "metadata": {
        "id": "ldbqzaRq9GQR"
      },
      "source": [
        "desarrollo_limpio2015 = desarrollo_limpio.filter(lambda x: x[2] == '2015 [YR2015]')\r\n",
        "desarrollo_limpio2015 = desarrollo_limpio2015.map(lambda x: x[5])\r\n",
        "desarrollo_limpio2015 = desarrollo_limpio2015.filter(lambda x: x.isdigit())\r\n",
        "desarrollo_limpio2015 = desarrollo_limpio2015.map(lambda x: int(x))\r\n",
        "desarrollo_limpio2015.mean()"
      ],
      "execution_count": null,
      "outputs": []
    },
    {
      "cell_type": "markdown",
      "metadata": {
        "id": "UfoDlflX9GZw"
      },
      "source": [
        "2016"
      ]
    },
    {
      "cell_type": "code",
      "metadata": {
        "id": "5q7jhqGD9HC1"
      },
      "source": [
        "desarrollo_limpio2016 = desarrollo_limpio.filter(lambda x: x[2] == '2016 [YR2016]')\r\n",
        "desarrollo_limpio2016 = desarrollo_limpio2016.map(lambda x: x[5])\r\n",
        "desarrollo_limpio2016 = desarrollo_limpio2016.filter(lambda x: x.isdigit())\r\n",
        "desarrollo_limpio2016 = desarrollo_limpio2016.map(lambda x: int(x))\r\n",
        "desarrollo_limpio2016.mean()"
      ],
      "execution_count": null,
      "outputs": []
    },
    {
      "cell_type": "markdown",
      "metadata": {
        "id": "cXFW2fvqHexQ"
      },
      "source": [
        "##### 8. Podrías decirme el total de deuda acumulada DT.AMT.MLAT.CD por los 10 países con un valor en media menor de SP.DYN.CBRT.IN"
      ]
    },
    {
      "cell_type": "code",
      "metadata": {
        "id": "py64dT3u-IcH"
      },
      "source": [
        "indicadores_deuda.take(2)"
      ],
      "execution_count": null,
      "outputs": []
    },
    {
      "cell_type": "code",
      "metadata": {
        "id": "g8aTz8Bd_gME"
      },
      "source": [
        "indicadores_desarrollo.take(3)"
      ],
      "execution_count": null,
      "outputs": []
    },
    {
      "cell_type": "markdown",
      "metadata": {
        "id": "7lmOE_L2BWEa"
      },
      "source": [
        "Calculamos la deuda media de SP.DYN.CBRT.IN"
      ]
    },
    {
      "cell_type": "code",
      "metadata": {
        "id": "qHvjTb6PAnWp"
      },
      "source": [
        "deuda = indicadores_desarrollo_clean.map(lambda x: x[5])\r\n",
        "deuda.mean()\r\n"
      ],
      "execution_count": null,
      "outputs": []
    },
    {
      "cell_type": "code",
      "metadata": {
        "id": "xFI9HnKBClRk"
      },
      "source": [
        ""
      ],
      "execution_count": null,
      "outputs": []
    },
    {
      "cell_type": "markdown",
      "metadata": {
        "id": "RekW1uqBBbMZ"
      },
      "source": [
        "Seleccionamos los datos menores a la media de SP.DYN.CBRT.IN"
      ]
    },
    {
      "cell_type": "code",
      "metadata": {
        "id": "l0d-ls56-fX1"
      },
      "source": [
        "indicadores_desarrollo_clean.filter(lambda x: x[5]< deuda.mean())"
      ],
      "execution_count": null,
      "outputs": []
    },
    {
      "cell_type": "code",
      "metadata": {
        "id": "xRsADUEg-fmn"
      },
      "source": [
        ""
      ],
      "execution_count": null,
      "outputs": []
    },
    {
      "cell_type": "markdown",
      "metadata": {
        "id": "vnB3QR6aHexQ"
      },
      "source": [
        "##### 9. ¿Hay alguna relación entre los nacimientos y el indicador DT.AMT.DLXF.CD? ¿Cómo podrías demostrarlo?"
      ]
    }
  ]
}