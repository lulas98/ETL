{
  "nbformat": 4,
  "nbformat_minor": 0,
  "metadata": {
    "kernelspec": {
      "display_name": "Python 3",
      "language": "python",
      "name": "python3"
    },
    "language_info": {
      "codemirror_mode": {
        "name": "ipython",
        "version": 3
      },
      "file_extension": ".py",
      "mimetype": "text/x-python",
      "name": "python",
      "nbconvert_exporter": "python",
      "pygments_lexer": "ipython3",
      "version": "3.7.4"
    },
    "toc": {
      "base_numbering": 1,
      "nav_menu": {},
      "number_sections": true,
      "sideBar": true,
      "skip_h1_title": false,
      "title_cell": "Table of Contents",
      "title_sidebar": "Contents",
      "toc_cell": false,
      "toc_position": {},
      "toc_section_display": true,
      "toc_window_display": true
    },
    "colab": {
      "name": "examen2021v2LV.ipynb",
      "provenance": [],
      "collapsed_sections": [],
      "toc_visible": true,
      "include_colab_link": true
    }
  },
  "cells": [
    {
      "cell_type": "markdown",
      "metadata": {
        "id": "view-in-github",
        "colab_type": "text"
      },
      "source": [
        "<a href=\"https://colab.research.google.com/github/lulas98/ETL/blob/main/examen2021v2LV.ipynb\" target=\"_parent\"><img src=\"https://colab.research.google.com/assets/colab-badge.svg\" alt=\"Open In Colab\"/></a>"
      ]
    },
    {
      "cell_type": "markdown",
      "metadata": {
        "id": "S7ys4Pt4PHt0"
      },
      "source": [
        "# TAREA FINAL: Datos de vivienda\n",
        "\n",
        "<p> El negocio inmobiliario es uno de los motores de la economía de España, el carácter turístico de nuesta península hace que sean muchos los inversores extranjeros que se decidan por buscar una inversión de bajo riesgos en nuestras ciudades costeras o grandes urbes. \n",
        "Muchas de estas inversiones se hacen sobre grandes bolsas de inmuebles que deben ser analizados previamente para comprobar la rentabilidad del porfolio </p>\n",
        "\n",
        "<!-- <p> En este caso vamos a trabajar con una tabla que contienen información de distintos inmuebles repartidos por una zona específica, sus carácterísticas y su precio </p>  -->"
      ]
    },
    {
      "cell_type": "markdown",
      "metadata": {
        "id": "XSk82p9mPHt2"
      },
      "source": [
        "Todas las cuestiones se deben realizar sobre el conjunto de casos que representen viviendas ubicadas en zonas residenciales **(alta, media y baja densidad)**"
      ]
    },
    {
      "cell_type": "markdown",
      "metadata": {
        "id": "b1cCs6gYPHt3"
      },
      "source": [
        "**MUY IMPORTANTE:** En las otras prácticas he detectado colaboraciones involucrando varias personas y he sido flexible aunque a algunos os lo he mencionado en las correcciones, porque al final el trabajo de analista de datos es un trabajo colaborativo. Sin embargo, este trabajo es individual, así que cuidado con las colaboraciones."
      ]
    },
    {
      "cell_type": "markdown",
      "metadata": {
        "id": "f68zjwaEPHt3"
      },
      "source": [
        "Las variables de las que se compone el dataset son:"
      ]
    },
    {
      "cell_type": "markdown",
      "metadata": {
        "id": "f1jceqnyPHt3"
      },
      "source": [
        "|NOMBRE VARIABLE|DESCRIPTOR|VALORES|\n",
        "| --- | --- | --- |\n",
        "|Order|Variable de identificación|1 a 2930|\n",
        "|MS Zoning|Zona de ubicación de la vivienda|\"A rural, C comercial, FV residencial flotante, I industrial, RH residencial alta densidad, RL residencial baja densidad, RM residencial media densidad\"|\n",
        "|Lot Frontage|Longitud de la fachada en pies||\n",
        "|Lot Area|Superficie de la vivienda en pies cuadrados||\n",
        "|Land Contour|Contorno del terreno circundante|\"Lvl llano, Bnk Tipo bancal, HLS Ladera, Low Depresión\"|\n",
        "|Land Slope|Tipo de pendiente de la vivienda|\" Gtl pendiente suave, Mod pendiente moderada, Sev fuerte pendiente\"|\n",
        "|Overall Qual|Grado de calidad de materiales y acabado de la vivienda|De 1 (Muy pobre) a 10 (Excelente)|\n",
        "|Year Built|Año de construccion de la vivienda||\n",
        "|Year Remod/Add|Año de última reforma de la vivienda||\n",
        "|Mas Vnr Type|Tipo de revestimiento exterior|\" BrkCmn Ladrillo normal, BrkFace Ladrillo visto, CBlock Bloque de cemento, None Ninguna, Stone Piedra \"|\n",
        "|Exter Qual|Calidad de revestimiento exterior|\"Ex Excelente,Gd Bueno,TA Media,Fa Justo\"|\n",
        "|Bsmt Cond|Estado general del sótano|\"Ex Excelente, Gd Bueno, TA Media, Fa Justo, Po Pobre,Ss sin sótano\"|\n",
        "|Total Bsmt SF|Superficie del sótano en pies cuadrados|\n",
        "|Heating QC|Calidad de la calefacción|\"Ex Excelente,Gd Bueno,TA Media,Fa Justo,Po Pobre\"|\n",
        "|Central Air|Aire acondicionado centralizado|\"N No Y Sí\"|\n",
        "|Full Bath|Número de baños completo en planta||\n",
        "|Half Bath|Número de aseos en planta||\n",
        "|Bedroom AbvGr|Número de dormitorios en planta||\n",
        "|Kitchen AbvGr|Número de cocinas en planta||\n",
        "|Kitchen Qual|Calidad de cocinas|\"Ex Excelente,Gd Bueno,TA Media,Fa Justo,Po Pobre\"|\n",
        "|TotRms AbvGrd|Número total de habitaciones excluidos los cuartos de baño||\n",
        "|Garage Cars|Número de plazas de garaje||\n",
        "|Garage Area|Superficie del garaje|||\n",
        "|Garage Cond|Estado del garaje|\"Ex Excelente,Gd Bueno,TA Media,Fa Justo,Po Pobre,Sg sin garaje\"|\n",
        "|Pool Area|Superficie de la piscina en pies cuadrados|\n",
        "|Pool QC|Calidad de la piscina|\"Ex Excelente,Gd Bueno,TA Media,Fa Justo,Sp no hay piscina\"|\n",
        "|Mo Sold|mes de venta||\n",
        "|Yr Sold|año de venta||\n",
        "|SalePrice|precio de venta en dólares||"
      ]
    },
    {
      "cell_type": "markdown",
      "metadata": {
        "id": "f3PWbzIqPHt4"
      },
      "source": [
        "Recomiendo al leer los datos, eliminar espacios de los nombres de las columnas, realiza un pequeño análisis inicial de los mismos. No olvides fijarte en los tipos de variables, que variables pueden tener tipos confundidos y corrige los. Sobre todo, trabaja con las fechas."
      ]
    },
    {
      "cell_type": "markdown",
      "metadata": {
        "id": "14MGdLFCPHt4"
      },
      "source": [
        "**NOTA:** Las tareas complementarias sirven para subir nota. El resto de preguntas valen igual y suman 10 puntos."
      ]
    },
    {
      "cell_type": "markdown",
      "metadata": {
        "id": "HOF_ULrJPHt4"
      },
      "source": [
        "## Inicializar y cargar el contexto spark"
      ]
    },
    {
      "cell_type": "code",
      "metadata": {
        "id": "RBueZUUbPUlx"
      },
      "source": [
        "!apt-get install openjdk-8-jdk-headless -qq > /dev/null\r\n",
        "!wget -q https://www-us.apache.org/dist/spark/spark-2.4.7/spark-2.4.7-bin-hadoop2.7.tgz\r\n",
        "!tar xf spark-2.4.7-bin-hadoop2.7.tgz\r\n",
        "!pip install -q findspark"
      ],
      "execution_count": 2,
      "outputs": []
    },
    {
      "cell_type": "code",
      "metadata": {
        "id": "80tpDShtPUxt"
      },
      "source": [
        "import os\r\n",
        "os.environ[\"JAVA_HOME\"] = \"/usr/lib/jvm/java-8-openjdk-amd64\"\r\n",
        "os.environ[\"SPARK_HOME\"] = \"/content/spark-2.4.7-bin-hadoop2.7\""
      ],
      "execution_count": 3,
      "outputs": []
    },
    {
      "cell_type": "code",
      "metadata": {
        "id": "l5PuQtswPd2g"
      },
      "source": [
        "import findspark\r\n",
        "findspark.init()\r\n",
        "from pyspark import SparkContext\r\n",
        "sc = SparkContext.getOrCreate()\r\n",
        "from pyspark.sql import SparkSession\r\n",
        "spark = SparkSession.builder.master(\"local[*]\").getOrCreate()"
      ],
      "execution_count": 4,
      "outputs": []
    },
    {
      "cell_type": "markdown",
      "metadata": {
        "id": "r59hf6YHQyjP"
      },
      "source": [
        "Cargamos distintas librerias"
      ]
    },
    {
      "cell_type": "code",
      "metadata": {
        "id": "zc9S9Azdabac"
      },
      "source": [
        "from pyspark.sql.functions import col\r\n",
        "import pandas as pd\r\n",
        "from pyspark.sql.functions import mean as mean_\r\n",
        "import pyspark.sql.functions as F\r\n",
        "\r\n",
        "\r\n"
      ],
      "execution_count": 5,
      "outputs": []
    },
    {
      "cell_type": "markdown",
      "metadata": {
        "id": "_UU1WVsU2hfw"
      },
      "source": [
        "Cargamos los Datos"
      ]
    },
    {
      "cell_type": "code",
      "metadata": {
        "colab": {
          "base_uri": "https://localhost:8080/"
        },
        "id": "_znKNIABbMIT",
        "outputId": "6b908ee6-5626-45c1-a74d-3c693ad37781"
      },
      "source": [
        " RawData = spark.read.option(\"delimiter\" , \";\").option(\"header\", \"True\").csv(\"BDpracticafinalCSV.csv\")\r\n",
        " RawData.show()"
      ],
      "execution_count": 7,
      "outputs": [
        {
          "output_type": "stream",
          "text": [
            "+-----+---------+------------+--------+------------+----------+------------+----------+--------------+------------+----------+---------+-------------+----------+-----------+---------+---------+-------------+-------------+------------+-------------+-----------+-----------+-----------+---------+-------+-------+-------+---------+\n",
            "|Order|MS Zoning|Lot Frontage|Lot Area|Land Contour|Land Slope|Overall Qual|Year Built|Year Remod/Add|Mas Vnr Type|Exter Qual|Bsmt Cond|Total Bsmt SF|Heating QC|Central Air|Full Bath|Half Bath|Bedroom AbvGr|Kitchen AbvGr|Kitchen Qual|TotRms AbvGrd|Garage Cars|Garage Area|Garage Cond|Pool Area|Pool QC|Mo Sold|Yr Sold|SalePrice|\n",
            "+-----+---------+------------+--------+------------+----------+------------+----------+--------------+------------+----------+---------+-------------+----------+-----------+---------+---------+-------------+-------------+------------+-------------+-----------+-----------+-----------+---------+-------+-------+-------+---------+\n",
            "|    1|       RL|         141|   31770|         Lvl|       Gtl|           6|      1960|          1960|       Stone|        TA|       Gd|         1080|        Fa|          Y|        1|        0|            3|            1|          TA|            7|          2|        528|         TA|        0|     Sp|      5|   2010|   215000|\n",
            "|    2|       RH|          80|   11622|         Lvl|       Gtl|           5|      1961|          1961|        None|        TA|       TA|          882|        TA|          Y|        1|        0|            2|            1|          TA|            5|          1|        730|         TA|        0|     Sp|      6|   2010|   105000|\n",
            "|    3|       RL|          81|   14267|         Lvl|       Gtl|           6|      1958|          1958|     BrkFace|        TA|       TA|         1329|        TA|          Y|        1|        1|            3|            1|          Gd|            6|          1|        312|         TA|        0|     Sp|      6|   2010|   172000|\n",
            "|    4|       RL|          93|   11160|         Lvl|       Gtl|           7|      1968|          1968|        None|        Gd|       TA|         2110|        Ex|          Y|        2|        1|            3|            1|          Ex|            8|          2|        522|         TA|        0|     Sp|      4|   2010|   244000|\n",
            "|    5|       RL|          74|   13830|         Lvl|       Gtl|           5|      1997|          1998|        None|        TA|       TA|          928|        Gd|          Y|        2|        1|            3|            1|          TA|            6|          2|        482|         TA|        0|     Sp|      3|   2010|   189900|\n",
            "|    6|       RL|          78|    9978|         Lvl|       Gtl|           6|      1998|          1998|     BrkFace|        TA|       TA|          926|        Ex|          Y|        2|        1|            3|            1|          Gd|            7|          2|        470|         TA|        0|     Sp|      6|   2010|   195500|\n",
            "|    7|       RL|          41|    4920|         Lvl|       Gtl|           8|      2001|          2001|        None|        Gd|       TA|         1338|        Ex|          Y|        2|        0|            2|            1|          Gd|            6|          2|        582|         TA|        0|     Sp|      4|   2010|   213500|\n",
            "|    8|       RL|          43|    5005|         HLS|       Gtl|           8|      1992|          1992|        None|        Gd|       TA|         1280|        Ex|          Y|        2|        0|            2|            1|          Gd|            5|          2|        506|         TA|        0|     Sp|      1|   2010|   191500|\n",
            "|    9|       RL|          39|    5389|         Lvl|       Gtl|           8|      1995|          1996|        None|        Gd|       TA|         1595|        Ex|          Y|        2|        0|            2|            1|          Gd|            5|          2|        608|         TA|        0|     Sp|      3|   2010|   236500|\n",
            "|   10|       RL|          60|    7500|         Lvl|       Gtl|           7|      1999|          1999|        None|        TA|       TA|          994|        Gd|          Y|        2|        1|            3|            1|          Gd|            7|          2|        442|         TA|        0|     Sp|      6|   2010|   189000|\n",
            "|   11|       RL|          75|   10000|         Lvl|       Gtl|           6|      1993|          1994|        None|        TA|       TA|          763|        Gd|          Y|        2|        1|            3|            1|          TA|            7|          2|        440|         TA|        0|     Sp|      4|   2010|   175900|\n",
            "|   12|       RL|        null|    7980|         Lvl|       Gtl|           6|      1992|          2007|        None|        TA|       TA|         1168|        Ex|          Y|        2|        0|            3|            1|          TA|            6|          2|        420|         TA|        0|     Sp|      3|   2010|   185000|\n",
            "|   13|       RL|          63|    8402|         Lvl|       Gtl|           6|      1998|          1998|        None|        TA|       TA|          789|        Gd|          Y|        2|        1|            3|            1|          TA|            7|          2|        393|         TA|        0|     Sp|      5|   2010|   180400|\n",
            "|   14|       RL|          85|   10176|         Lvl|       Gtl|           7|      1990|          1990|        None|        TA|       TA|         1300|        Gd|          Y|        1|        1|            2|            1|          Gd|            5|          2|        506|         TA|        0|     Sp|      2|   2010|   171500|\n",
            "|   15|       RL|        null|    6820|         Lvl|       Gtl|           8|      1985|          1985|        None|        Gd|       TA|         1488|        TA|          Y|        1|        1|            1|            1|          Gd|            4|          2|        528|         TA|        0|     Sp|      6|   2010|   212000|\n",
            "|   16|       RL|          47|   53504|         HLS|       Mod|           8|      2003|          2003|     BrkFace|        Ex|       TA|         1650|        Ex|          Y|        3|        1|            4|            1|          Ex|           12|          3|        841|         TA|        0|     Sp|      6|   2010|   538000|\n",
            "|   17|       RL|         152|   12134|         Bnk|       Mod|           8|      1988|          2005|        None|        Gd|       TA|          559|        Gd|          Y|        2|        0|            4|            1|          TA|            8|          2|        492|         TA|        0|     Sp|      6|   2010|   164000|\n",
            "|   18|       RL|          88|   11394|         Lvl|       Gtl|           9|      2010|          2010|       Stone|        Gd|       TA|         1856|        Ex|          Y|        1|        1|            1|            1|          Ex|            8|          3|        834|         TA|        0|     Sp|      6|   2010|   394432|\n",
            "|   19|       RL|         140|   19138|         Lvl|       Gtl|           4|      1951|          1951|        None|        TA|       TA|          864|        Ex|          Y|        1|        0|            2|            1|          TA|            4|          2|        400|         TA|        0|     Sp|      6|   2010|   141000|\n",
            "|   20|       RL|          85|   13175|         Lvl|       Gtl|           6|      1978|          1988|       Stone|        TA|       TA|         1542|        TA|          Y|        2|        0|            3|            1|          TA|            7|          2|        500|         TA|        0|     Sp|      2|   2010|   210000|\n",
            "+-----+---------+------------+--------+------------+----------+------------+----------+--------------+------------+----------+---------+-------------+----------+-----------+---------+---------+-------------+-------------+------------+-------------+-----------+-----------+-----------+---------+-------+-------+-------+---------+\n",
            "only showing top 20 rows\n",
            "\n"
          ],
          "name": "stdout"
        }
      ]
    },
    {
      "cell_type": "markdown",
      "metadata": {
        "id": "BwPIB4fYfnNj"
      },
      "source": [
        "Renombramos las columnas\r\n"
      ]
    },
    {
      "cell_type": "code",
      "metadata": {
        "colab": {
          "base_uri": "https://localhost:8080/"
        },
        "id": "tEvMtDwBadR-",
        "outputId": "fd9b3946-2206-4b6c-a77d-7236ed162f68"
      },
      "source": [
        "data = RawData.select(col(\"Order\").alias(\"Order\"),col(\"MS Zoning\").alias(\"MS_Zoning\"), col(\"Lot Frontage\").alias(\"Lot_Frontage\"),col(\"Lot Area\").alias(\"Lot_Area\"), col(\"Land Contour\").alias(\"Land_Contour\"),col(\"Land Slope\").alias(\"Land_Slope\"), col(\"Overall Qual\").alias(\"Overall_Qual\"),col(\"Year Built\").alias(\"Year_Built\"), col(\"Year Remod/Add\").alias(\"Year_Remod_Add\"),col(\"Mas Vnr Type\").alias(\"Mas_Vnr_Type\"), col(\"Exter Qual\").alias(\"Exter_Qual\"),col(\"Bsmt Cond\").alias(\"Bsmt_Cond\"), col(\"Total Bsmt SF\").alias(\"Total_Bsmt_SF\"),col(\"Heating QC\").alias(\"Heating_QC\"), col(\"Central Air\").alias(\"Central_Air\"),col(\"Full Bath\").alias(\"Full_Bath\"), col(\"Half Bath\").alias(\"Half_Bath\"),col(\"Bedroom AbvGr\").alias(\"Bedroom_AbvGr\"), col(\"Kitchen AbvGr\").alias(\"Kitchen_AbvGr\"),col(\"Kitchen Qual\").alias(\"Kitchen_Qual\"),col(\"TotRms AbvGrd\").alias(\"TotRms_AbvGrd\"), col(\"Garage Cars\").alias(\"Garage_Cars\"),col(\"Garage Area\").alias(\"Garage_Area\"), col(\"Garage Cond\").alias(\"Garage_Cond\"),col(\"Pool Area\").alias(\"Pool_Area\"), col(\"Pool QC\").alias(\"Pool_QC\"),col(\"Mo Sold\").alias(\"Mo_Sold\"), col(\"Yr Sold\").alias(\"Yr_Sold\"),col(\"SalePrice\").alias(\"SalePrice\"))\r\n",
        "data.show()"
      ],
      "execution_count": 8,
      "outputs": [
        {
          "output_type": "stream",
          "text": [
            "+-----+---------+------------+--------+------------+----------+------------+----------+--------------+------------+----------+---------+-------------+----------+-----------+---------+---------+-------------+-------------+------------+-------------+-----------+-----------+-----------+---------+-------+-------+-------+---------+\n",
            "|Order|MS_Zoning|Lot_Frontage|Lot_Area|Land_Contour|Land_Slope|Overall_Qual|Year_Built|Year_Remod_Add|Mas_Vnr_Type|Exter_Qual|Bsmt_Cond|Total_Bsmt_SF|Heating_QC|Central_Air|Full_Bath|Half_Bath|Bedroom_AbvGr|Kitchen_AbvGr|Kitchen_Qual|TotRms_AbvGrd|Garage_Cars|Garage_Area|Garage_Cond|Pool_Area|Pool_QC|Mo_Sold|Yr_Sold|SalePrice|\n",
            "+-----+---------+------------+--------+------------+----------+------------+----------+--------------+------------+----------+---------+-------------+----------+-----------+---------+---------+-------------+-------------+------------+-------------+-----------+-----------+-----------+---------+-------+-------+-------+---------+\n",
            "|    1|       RL|         141|   31770|         Lvl|       Gtl|           6|      1960|          1960|       Stone|        TA|       Gd|         1080|        Fa|          Y|        1|        0|            3|            1|          TA|            7|          2|        528|         TA|        0|     Sp|      5|   2010|   215000|\n",
            "|    2|       RH|          80|   11622|         Lvl|       Gtl|           5|      1961|          1961|        None|        TA|       TA|          882|        TA|          Y|        1|        0|            2|            1|          TA|            5|          1|        730|         TA|        0|     Sp|      6|   2010|   105000|\n",
            "|    3|       RL|          81|   14267|         Lvl|       Gtl|           6|      1958|          1958|     BrkFace|        TA|       TA|         1329|        TA|          Y|        1|        1|            3|            1|          Gd|            6|          1|        312|         TA|        0|     Sp|      6|   2010|   172000|\n",
            "|    4|       RL|          93|   11160|         Lvl|       Gtl|           7|      1968|          1968|        None|        Gd|       TA|         2110|        Ex|          Y|        2|        1|            3|            1|          Ex|            8|          2|        522|         TA|        0|     Sp|      4|   2010|   244000|\n",
            "|    5|       RL|          74|   13830|         Lvl|       Gtl|           5|      1997|          1998|        None|        TA|       TA|          928|        Gd|          Y|        2|        1|            3|            1|          TA|            6|          2|        482|         TA|        0|     Sp|      3|   2010|   189900|\n",
            "|    6|       RL|          78|    9978|         Lvl|       Gtl|           6|      1998|          1998|     BrkFace|        TA|       TA|          926|        Ex|          Y|        2|        1|            3|            1|          Gd|            7|          2|        470|         TA|        0|     Sp|      6|   2010|   195500|\n",
            "|    7|       RL|          41|    4920|         Lvl|       Gtl|           8|      2001|          2001|        None|        Gd|       TA|         1338|        Ex|          Y|        2|        0|            2|            1|          Gd|            6|          2|        582|         TA|        0|     Sp|      4|   2010|   213500|\n",
            "|    8|       RL|          43|    5005|         HLS|       Gtl|           8|      1992|          1992|        None|        Gd|       TA|         1280|        Ex|          Y|        2|        0|            2|            1|          Gd|            5|          2|        506|         TA|        0|     Sp|      1|   2010|   191500|\n",
            "|    9|       RL|          39|    5389|         Lvl|       Gtl|           8|      1995|          1996|        None|        Gd|       TA|         1595|        Ex|          Y|        2|        0|            2|            1|          Gd|            5|          2|        608|         TA|        0|     Sp|      3|   2010|   236500|\n",
            "|   10|       RL|          60|    7500|         Lvl|       Gtl|           7|      1999|          1999|        None|        TA|       TA|          994|        Gd|          Y|        2|        1|            3|            1|          Gd|            7|          2|        442|         TA|        0|     Sp|      6|   2010|   189000|\n",
            "|   11|       RL|          75|   10000|         Lvl|       Gtl|           6|      1993|          1994|        None|        TA|       TA|          763|        Gd|          Y|        2|        1|            3|            1|          TA|            7|          2|        440|         TA|        0|     Sp|      4|   2010|   175900|\n",
            "|   12|       RL|        null|    7980|         Lvl|       Gtl|           6|      1992|          2007|        None|        TA|       TA|         1168|        Ex|          Y|        2|        0|            3|            1|          TA|            6|          2|        420|         TA|        0|     Sp|      3|   2010|   185000|\n",
            "|   13|       RL|          63|    8402|         Lvl|       Gtl|           6|      1998|          1998|        None|        TA|       TA|          789|        Gd|          Y|        2|        1|            3|            1|          TA|            7|          2|        393|         TA|        0|     Sp|      5|   2010|   180400|\n",
            "|   14|       RL|          85|   10176|         Lvl|       Gtl|           7|      1990|          1990|        None|        TA|       TA|         1300|        Gd|          Y|        1|        1|            2|            1|          Gd|            5|          2|        506|         TA|        0|     Sp|      2|   2010|   171500|\n",
            "|   15|       RL|        null|    6820|         Lvl|       Gtl|           8|      1985|          1985|        None|        Gd|       TA|         1488|        TA|          Y|        1|        1|            1|            1|          Gd|            4|          2|        528|         TA|        0|     Sp|      6|   2010|   212000|\n",
            "|   16|       RL|          47|   53504|         HLS|       Mod|           8|      2003|          2003|     BrkFace|        Ex|       TA|         1650|        Ex|          Y|        3|        1|            4|            1|          Ex|           12|          3|        841|         TA|        0|     Sp|      6|   2010|   538000|\n",
            "|   17|       RL|         152|   12134|         Bnk|       Mod|           8|      1988|          2005|        None|        Gd|       TA|          559|        Gd|          Y|        2|        0|            4|            1|          TA|            8|          2|        492|         TA|        0|     Sp|      6|   2010|   164000|\n",
            "|   18|       RL|          88|   11394|         Lvl|       Gtl|           9|      2010|          2010|       Stone|        Gd|       TA|         1856|        Ex|          Y|        1|        1|            1|            1|          Ex|            8|          3|        834|         TA|        0|     Sp|      6|   2010|   394432|\n",
            "|   19|       RL|         140|   19138|         Lvl|       Gtl|           4|      1951|          1951|        None|        TA|       TA|          864|        Ex|          Y|        1|        0|            2|            1|          TA|            4|          2|        400|         TA|        0|     Sp|      6|   2010|   141000|\n",
            "|   20|       RL|          85|   13175|         Lvl|       Gtl|           6|      1978|          1988|       Stone|        TA|       TA|         1542|        TA|          Y|        2|        0|            3|            1|          TA|            7|          2|        500|         TA|        0|     Sp|      2|   2010|   210000|\n",
            "+-----+---------+------------+--------+------------+----------+------------+----------+--------------+------------+----------+---------+-------------+----------+-----------+---------+---------+-------------+-------------+------------+-------------+-----------+-----------+-----------+---------+-------+-------+-------+---------+\n",
            "only showing top 20 rows\n",
            "\n"
          ],
          "name": "stdout"
        }
      ]
    },
    {
      "cell_type": "markdown",
      "metadata": {
        "id": "LqGWeGgOX_db"
      },
      "source": [
        "Modificamos los datos a el formato acorde a su tipo de dato"
      ]
    },
    {
      "cell_type": "code",
      "metadata": {
        "id": "19JxG08RczPQ"
      },
      "source": [
        "data = data.select(data.Order.cast(\"int\"),\r\n",
        "data.Lot_Area.cast(\"int\"),\r\n",
        "data.MS_Zoning.cast(\"string\"),\r\n",
        "data.Lot_Frontage.cast(\"int\"),\r\n",
        "data.Land_Contour.cast(\"string\"),\r\n",
        "data.Land_Slope.cast(\"string\"),\r\n",
        "data.Overall_Qual.cast(\"string\"),\r\n",
        "data.Year_Built.cast(\"int\"),\r\n",
        "data.Year_Remod_Add.cast(\"int\"),\r\n",
        "data.Mas_Vnr_Type.cast(\"string\"),\r\n",
        "data.Exter_Qual.cast(\"string\"),\r\n",
        "data.Bsmt_Cond.cast(\"string\"),\r\n",
        "data.Total_Bsmt_SF.cast(\"int\"),\r\n",
        "data.Heating_QC.cast(\"string\"),\r\n",
        "data.Central_Air.cast(\"string\"),\r\n",
        "data.Full_Bath.cast(\"int\"),\r\n",
        "data.Half_Bath.cast(\"int\"),\r\n",
        "data.Bedroom_AbvGr.cast(\"int\"),\r\n",
        "data.Kitchen_AbvGr.cast(\"int\"),\r\n",
        "data.Kitchen_Qual.cast(\"string\"),\r\n",
        "data.TotRms_AbvGrd.cast(\"int\"),\r\n",
        "data.Garage_Cars.cast(\"int\"),\r\n",
        "data.Garage_Area.cast(\"int\"),\r\n",
        "data.Garage_Cond.cast(\"string\"),\r\n",
        "data.Pool_Area.cast(\"int\"),\r\n",
        "data.Pool_QC.cast(\"string\"),\r\n",
        "data.Mo_Sold.cast(\"int\"),\r\n",
        "data.Yr_Sold.cast(\"int\"),\r\n",
        "data.SalePrice.cast(\"int\"))\r\n"
      ],
      "execution_count": 9,
      "outputs": []
    },
    {
      "cell_type": "code",
      "metadata": {
        "colab": {
          "base_uri": "https://localhost:8080/"
        },
        "id": "GV6jKqBKmd4S",
        "outputId": "e8ae3478-b00a-461b-a3dd-4dc921eac739"
      },
      "source": [
        "data.show()"
      ],
      "execution_count": 10,
      "outputs": [
        {
          "output_type": "stream",
          "text": [
            "+-----+--------+---------+------------+------------+----------+------------+----------+--------------+------------+----------+---------+-------------+----------+-----------+---------+---------+-------------+-------------+------------+-------------+-----------+-----------+-----------+---------+-------+-------+-------+---------+\n",
            "|Order|Lot_Area|MS_Zoning|Lot_Frontage|Land_Contour|Land_Slope|Overall_Qual|Year_Built|Year_Remod_Add|Mas_Vnr_Type|Exter_Qual|Bsmt_Cond|Total_Bsmt_SF|Heating_QC|Central_Air|Full_Bath|Half_Bath|Bedroom_AbvGr|Kitchen_AbvGr|Kitchen_Qual|TotRms_AbvGrd|Garage_Cars|Garage_Area|Garage_Cond|Pool_Area|Pool_QC|Mo_Sold|Yr_Sold|SalePrice|\n",
            "+-----+--------+---------+------------+------------+----------+------------+----------+--------------+------------+----------+---------+-------------+----------+-----------+---------+---------+-------------+-------------+------------+-------------+-----------+-----------+-----------+---------+-------+-------+-------+---------+\n",
            "|    1|   31770|       RL|         141|         Lvl|       Gtl|           6|      1960|          1960|       Stone|        TA|       Gd|         1080|        Fa|          Y|        1|        0|            3|            1|          TA|            7|          2|        528|         TA|        0|     Sp|      5|   2010|   215000|\n",
            "|    2|   11622|       RH|          80|         Lvl|       Gtl|           5|      1961|          1961|        None|        TA|       TA|          882|        TA|          Y|        1|        0|            2|            1|          TA|            5|          1|        730|         TA|        0|     Sp|      6|   2010|   105000|\n",
            "|    3|   14267|       RL|          81|         Lvl|       Gtl|           6|      1958|          1958|     BrkFace|        TA|       TA|         1329|        TA|          Y|        1|        1|            3|            1|          Gd|            6|          1|        312|         TA|        0|     Sp|      6|   2010|   172000|\n",
            "|    4|   11160|       RL|          93|         Lvl|       Gtl|           7|      1968|          1968|        None|        Gd|       TA|         2110|        Ex|          Y|        2|        1|            3|            1|          Ex|            8|          2|        522|         TA|        0|     Sp|      4|   2010|   244000|\n",
            "|    5|   13830|       RL|          74|         Lvl|       Gtl|           5|      1997|          1998|        None|        TA|       TA|          928|        Gd|          Y|        2|        1|            3|            1|          TA|            6|          2|        482|         TA|        0|     Sp|      3|   2010|   189900|\n",
            "|    6|    9978|       RL|          78|         Lvl|       Gtl|           6|      1998|          1998|     BrkFace|        TA|       TA|          926|        Ex|          Y|        2|        1|            3|            1|          Gd|            7|          2|        470|         TA|        0|     Sp|      6|   2010|   195500|\n",
            "|    7|    4920|       RL|          41|         Lvl|       Gtl|           8|      2001|          2001|        None|        Gd|       TA|         1338|        Ex|          Y|        2|        0|            2|            1|          Gd|            6|          2|        582|         TA|        0|     Sp|      4|   2010|   213500|\n",
            "|    8|    5005|       RL|          43|         HLS|       Gtl|           8|      1992|          1992|        None|        Gd|       TA|         1280|        Ex|          Y|        2|        0|            2|            1|          Gd|            5|          2|        506|         TA|        0|     Sp|      1|   2010|   191500|\n",
            "|    9|    5389|       RL|          39|         Lvl|       Gtl|           8|      1995|          1996|        None|        Gd|       TA|         1595|        Ex|          Y|        2|        0|            2|            1|          Gd|            5|          2|        608|         TA|        0|     Sp|      3|   2010|   236500|\n",
            "|   10|    7500|       RL|          60|         Lvl|       Gtl|           7|      1999|          1999|        None|        TA|       TA|          994|        Gd|          Y|        2|        1|            3|            1|          Gd|            7|          2|        442|         TA|        0|     Sp|      6|   2010|   189000|\n",
            "|   11|   10000|       RL|          75|         Lvl|       Gtl|           6|      1993|          1994|        None|        TA|       TA|          763|        Gd|          Y|        2|        1|            3|            1|          TA|            7|          2|        440|         TA|        0|     Sp|      4|   2010|   175900|\n",
            "|   12|    7980|       RL|        null|         Lvl|       Gtl|           6|      1992|          2007|        None|        TA|       TA|         1168|        Ex|          Y|        2|        0|            3|            1|          TA|            6|          2|        420|         TA|        0|     Sp|      3|   2010|   185000|\n",
            "|   13|    8402|       RL|          63|         Lvl|       Gtl|           6|      1998|          1998|        None|        TA|       TA|          789|        Gd|          Y|        2|        1|            3|            1|          TA|            7|          2|        393|         TA|        0|     Sp|      5|   2010|   180400|\n",
            "|   14|   10176|       RL|          85|         Lvl|       Gtl|           7|      1990|          1990|        None|        TA|       TA|         1300|        Gd|          Y|        1|        1|            2|            1|          Gd|            5|          2|        506|         TA|        0|     Sp|      2|   2010|   171500|\n",
            "|   15|    6820|       RL|        null|         Lvl|       Gtl|           8|      1985|          1985|        None|        Gd|       TA|         1488|        TA|          Y|        1|        1|            1|            1|          Gd|            4|          2|        528|         TA|        0|     Sp|      6|   2010|   212000|\n",
            "|   16|   53504|       RL|          47|         HLS|       Mod|           8|      2003|          2003|     BrkFace|        Ex|       TA|         1650|        Ex|          Y|        3|        1|            4|            1|          Ex|           12|          3|        841|         TA|        0|     Sp|      6|   2010|   538000|\n",
            "|   17|   12134|       RL|         152|         Bnk|       Mod|           8|      1988|          2005|        None|        Gd|       TA|          559|        Gd|          Y|        2|        0|            4|            1|          TA|            8|          2|        492|         TA|        0|     Sp|      6|   2010|   164000|\n",
            "|   18|   11394|       RL|          88|         Lvl|       Gtl|           9|      2010|          2010|       Stone|        Gd|       TA|         1856|        Ex|          Y|        1|        1|            1|            1|          Ex|            8|          3|        834|         TA|        0|     Sp|      6|   2010|   394432|\n",
            "|   19|   19138|       RL|         140|         Lvl|       Gtl|           4|      1951|          1951|        None|        TA|       TA|          864|        Ex|          Y|        1|        0|            2|            1|          TA|            4|          2|        400|         TA|        0|     Sp|      6|   2010|   141000|\n",
            "|   20|   13175|       RL|          85|         Lvl|       Gtl|           6|      1978|          1988|       Stone|        TA|       TA|         1542|        TA|          Y|        2|        0|            3|            1|          TA|            7|          2|        500|         TA|        0|     Sp|      2|   2010|   210000|\n",
            "+-----+--------+---------+------------+------------+----------+------------+----------+--------------+------------+----------+---------+-------------+----------+-----------+---------+---------+-------------+-------------+------------+-------------+-----------+-----------+-----------+---------+-------+-------+-------+---------+\n",
            "only showing top 20 rows\n",
            "\n"
          ],
          "name": "stdout"
        }
      ]
    },
    {
      "cell_type": "markdown",
      "metadata": {
        "id": "6YkkKlLAiniA"
      },
      "source": [
        "Primero parseamos los datos, pues existen varios datos que significan los mismo pero están escritos de forma distinta, como es el caso de (RL, rL, Rl)"
      ]
    },
    {
      "cell_type": "code",
      "metadata": {
        "id": "ZCbhwJKPim8j"
      },
      "source": [
        "data = data.withColumn(\"MS_Zoning\", F.when(F.col(\"Ms_Zoning\") == \"Rl\", \"RL\").when(F.col(\"Ms_Zoning\") == \"rl\", \"RL\").when(F.col(\"Ms_Zoning\") == \"rL\" , \"RL\").otherwise(F.col(\"Ms_Zoning\")))"
      ],
      "execution_count": 11,
      "outputs": []
    },
    {
      "cell_type": "markdown",
      "metadata": {
        "id": "joinS_FDo7mX"
      },
      "source": [
        "Filtramos para quedarnos solo con las zonas residenciales de baja, media, y alta densidad"
      ]
    },
    {
      "cell_type": "code",
      "metadata": {
        "colab": {
          "base_uri": "https://localhost:8080/"
        },
        "id": "eGz19I0Oivs6",
        "outputId": "1e164e12-8195-4880-d3a5-4be104475027"
      },
      "source": [
        "data = data.filter(\" Ms_Zoning == 'RL'  or Ms_Zoning == 'RH' or Ms_Zoning == 'RM'\")\r\n",
        "\r\n",
        "data.show()"
      ],
      "execution_count": 12,
      "outputs": [
        {
          "output_type": "stream",
          "text": [
            "+-----+--------+---------+------------+------------+----------+------------+----------+--------------+------------+----------+---------+-------------+----------+-----------+---------+---------+-------------+-------------+------------+-------------+-----------+-----------+-----------+---------+-------+-------+-------+---------+\n",
            "|Order|Lot_Area|MS_Zoning|Lot_Frontage|Land_Contour|Land_Slope|Overall_Qual|Year_Built|Year_Remod_Add|Mas_Vnr_Type|Exter_Qual|Bsmt_Cond|Total_Bsmt_SF|Heating_QC|Central_Air|Full_Bath|Half_Bath|Bedroom_AbvGr|Kitchen_AbvGr|Kitchen_Qual|TotRms_AbvGrd|Garage_Cars|Garage_Area|Garage_Cond|Pool_Area|Pool_QC|Mo_Sold|Yr_Sold|SalePrice|\n",
            "+-----+--------+---------+------------+------------+----------+------------+----------+--------------+------------+----------+---------+-------------+----------+-----------+---------+---------+-------------+-------------+------------+-------------+-----------+-----------+-----------+---------+-------+-------+-------+---------+\n",
            "|    1|   31770|       RL|         141|         Lvl|       Gtl|           6|      1960|          1960|       Stone|        TA|       Gd|         1080|        Fa|          Y|        1|        0|            3|            1|          TA|            7|          2|        528|         TA|        0|     Sp|      5|   2010|   215000|\n",
            "|    2|   11622|       RH|          80|         Lvl|       Gtl|           5|      1961|          1961|        None|        TA|       TA|          882|        TA|          Y|        1|        0|            2|            1|          TA|            5|          1|        730|         TA|        0|     Sp|      6|   2010|   105000|\n",
            "|    3|   14267|       RL|          81|         Lvl|       Gtl|           6|      1958|          1958|     BrkFace|        TA|       TA|         1329|        TA|          Y|        1|        1|            3|            1|          Gd|            6|          1|        312|         TA|        0|     Sp|      6|   2010|   172000|\n",
            "|    4|   11160|       RL|          93|         Lvl|       Gtl|           7|      1968|          1968|        None|        Gd|       TA|         2110|        Ex|          Y|        2|        1|            3|            1|          Ex|            8|          2|        522|         TA|        0|     Sp|      4|   2010|   244000|\n",
            "|    5|   13830|       RL|          74|         Lvl|       Gtl|           5|      1997|          1998|        None|        TA|       TA|          928|        Gd|          Y|        2|        1|            3|            1|          TA|            6|          2|        482|         TA|        0|     Sp|      3|   2010|   189900|\n",
            "|    6|    9978|       RL|          78|         Lvl|       Gtl|           6|      1998|          1998|     BrkFace|        TA|       TA|          926|        Ex|          Y|        2|        1|            3|            1|          Gd|            7|          2|        470|         TA|        0|     Sp|      6|   2010|   195500|\n",
            "|    7|    4920|       RL|          41|         Lvl|       Gtl|           8|      2001|          2001|        None|        Gd|       TA|         1338|        Ex|          Y|        2|        0|            2|            1|          Gd|            6|          2|        582|         TA|        0|     Sp|      4|   2010|   213500|\n",
            "|    8|    5005|       RL|          43|         HLS|       Gtl|           8|      1992|          1992|        None|        Gd|       TA|         1280|        Ex|          Y|        2|        0|            2|            1|          Gd|            5|          2|        506|         TA|        0|     Sp|      1|   2010|   191500|\n",
            "|    9|    5389|       RL|          39|         Lvl|       Gtl|           8|      1995|          1996|        None|        Gd|       TA|         1595|        Ex|          Y|        2|        0|            2|            1|          Gd|            5|          2|        608|         TA|        0|     Sp|      3|   2010|   236500|\n",
            "|   10|    7500|       RL|          60|         Lvl|       Gtl|           7|      1999|          1999|        None|        TA|       TA|          994|        Gd|          Y|        2|        1|            3|            1|          Gd|            7|          2|        442|         TA|        0|     Sp|      6|   2010|   189000|\n",
            "|   11|   10000|       RL|          75|         Lvl|       Gtl|           6|      1993|          1994|        None|        TA|       TA|          763|        Gd|          Y|        2|        1|            3|            1|          TA|            7|          2|        440|         TA|        0|     Sp|      4|   2010|   175900|\n",
            "|   12|    7980|       RL|        null|         Lvl|       Gtl|           6|      1992|          2007|        None|        TA|       TA|         1168|        Ex|          Y|        2|        0|            3|            1|          TA|            6|          2|        420|         TA|        0|     Sp|      3|   2010|   185000|\n",
            "|   13|    8402|       RL|          63|         Lvl|       Gtl|           6|      1998|          1998|        None|        TA|       TA|          789|        Gd|          Y|        2|        1|            3|            1|          TA|            7|          2|        393|         TA|        0|     Sp|      5|   2010|   180400|\n",
            "|   14|   10176|       RL|          85|         Lvl|       Gtl|           7|      1990|          1990|        None|        TA|       TA|         1300|        Gd|          Y|        1|        1|            2|            1|          Gd|            5|          2|        506|         TA|        0|     Sp|      2|   2010|   171500|\n",
            "|   15|    6820|       RL|        null|         Lvl|       Gtl|           8|      1985|          1985|        None|        Gd|       TA|         1488|        TA|          Y|        1|        1|            1|            1|          Gd|            4|          2|        528|         TA|        0|     Sp|      6|   2010|   212000|\n",
            "|   16|   53504|       RL|          47|         HLS|       Mod|           8|      2003|          2003|     BrkFace|        Ex|       TA|         1650|        Ex|          Y|        3|        1|            4|            1|          Ex|           12|          3|        841|         TA|        0|     Sp|      6|   2010|   538000|\n",
            "|   17|   12134|       RL|         152|         Bnk|       Mod|           8|      1988|          2005|        None|        Gd|       TA|          559|        Gd|          Y|        2|        0|            4|            1|          TA|            8|          2|        492|         TA|        0|     Sp|      6|   2010|   164000|\n",
            "|   18|   11394|       RL|          88|         Lvl|       Gtl|           9|      2010|          2010|       Stone|        Gd|       TA|         1856|        Ex|          Y|        1|        1|            1|            1|          Ex|            8|          3|        834|         TA|        0|     Sp|      6|   2010|   394432|\n",
            "|   19|   19138|       RL|         140|         Lvl|       Gtl|           4|      1951|          1951|        None|        TA|       TA|          864|        Ex|          Y|        1|        0|            2|            1|          TA|            4|          2|        400|         TA|        0|     Sp|      6|   2010|   141000|\n",
            "|   20|   13175|       RL|          85|         Lvl|       Gtl|           6|      1978|          1988|       Stone|        TA|       TA|         1542|        TA|          Y|        2|        0|            3|            1|          TA|            7|          2|        500|         TA|        0|     Sp|      2|   2010|   210000|\n",
            "+-----+--------+---------+------------+------------+----------+------------+----------+--------------+------------+----------+---------+-------------+----------+-----------+---------+---------+-------------+-------------+------------+-------------+-----------+-----------+-----------+---------+-------+-------+-------+---------+\n",
            "only showing top 20 rows\n",
            "\n"
          ],
          "name": "stdout"
        }
      ]
    },
    {
      "cell_type": "markdown",
      "metadata": {
        "id": "cfOlcAvqPHt4"
      },
      "source": [
        "## Cuántas viviendas distintas encontramos en el dataset? ¿Se repite alguna? Tiene sentido que haya duplicadas? ¿Qué podemos hacer con las duplicadas?"
      ]
    },
    {
      "cell_type": "code",
      "metadata": {
        "colab": {
          "base_uri": "https://localhost:8080/"
        },
        "id": "HL10yzYwpRob",
        "outputId": "01ad34d0-fc68-48cf-fc5a-c4bb689f2706"
      },
      "source": [
        "data.count()"
      ],
      "execution_count": 13,
      "outputs": [
        {
          "output_type": "execute_result",
          "data": {
            "text/plain": [
              "2768"
            ]
          },
          "metadata": {
            "tags": []
          },
          "execution_count": 13
        }
      ]
    },
    {
      "cell_type": "code",
      "metadata": {
        "colab": {
          "base_uri": "https://localhost:8080/"
        },
        "id": "i-t6duNHkc14",
        "outputId": "9ccff38e-f3aa-42db-f735-c517cb461065"
      },
      "source": [
        "DatosDuplicados = data.dropDuplicates()\r\n",
        "DatosDuplicados.count()\r\n"
      ],
      "execution_count": 14,
      "outputs": [
        {
          "output_type": "execute_result",
          "data": {
            "text/plain": [
              "2762"
            ]
          },
          "metadata": {
            "tags": []
          },
          "execution_count": 14
        }
      ]
    },
    {
      "cell_type": "code",
      "metadata": {
        "id": "gDPw7wCGKOvX"
      },
      "source": [
        "data = data.dropDuplicates()"
      ],
      "execution_count": 15,
      "outputs": []
    },
    {
      "cell_type": "markdown",
      "metadata": {
        "id": "bWZlWX60ppvF"
      },
      "source": [
        " Existen 6 datos duplicados, lo cual es muy poco teniendo en cuenta el tamaño del dataset. Aún así no tiene sentido que se repitan, ya que debería haber solo una orden por cada casa, es por ello que podemos eliminarlas."
      ]
    },
    {
      "cell_type": "markdown",
      "metadata": {
        "id": "V1jfQn6uPHt4"
      },
      "source": [
        "## ¿Podrías decirme el total de inmuebles y el precio medio (Sale Price) de cada zona (MS Zoning)?"
      ]
    },
    {
      "cell_type": "markdown",
      "metadata": {
        "id": "4RQWXn0mYMDN"
      },
      "source": [
        "# Total de Inmuebles"
      ]
    },
    {
      "cell_type": "code",
      "metadata": {
        "colab": {
          "base_uri": "https://localhost:8080/"
        },
        "id": "YVJW5-wqrMok",
        "outputId": "43aac242-a8dc-4d38-f7bb-c906d7f82a1d"
      },
      "source": [
        "data.groupBy(\"MS_Zoning\").count().show()"
      ],
      "execution_count": 16,
      "outputs": [
        {
          "output_type": "stream",
          "text": [
            "+---------+-----+\n",
            "|MS_Zoning|count|\n",
            "+---------+-----+\n",
            "|       RH|   27|\n",
            "|       RL| 2273|\n",
            "|       RM|  462|\n",
            "+---------+-----+\n",
            "\n"
          ],
          "name": "stdout"
        }
      ]
    },
    {
      "cell_type": "markdown",
      "metadata": {
        "id": "7BemSM5oYh-f"
      },
      "source": [
        " # Precio Medio de cada Zona"
      ]
    },
    {
      "cell_type": "code",
      "metadata": {
        "colab": {
          "base_uri": "https://localhost:8080/"
        },
        "id": "3UQjp7ousMri",
        "outputId": "42bddc90-60b6-48a1-b895-0815b6651c4a"
      },
      "source": [
        "data.groupBy(\"MS_Zoning\").agg(mean_(\"SalePrice\")).show()"
      ],
      "execution_count": 17,
      "outputs": [
        {
          "output_type": "stream",
          "text": [
            "+---------+------------------+\n",
            "|MS_Zoning|    avg(SalePrice)|\n",
            "+---------+------------------+\n",
            "|       RH|136419.77777777778|\n",
            "|       RL|191283.25164980203|\n",
            "|       RM|126781.39393939394|\n",
            "+---------+------------------+\n",
            "\n"
          ],
          "name": "stdout"
        }
      ]
    },
    {
      "cell_type": "markdown",
      "metadata": {
        "id": "pqko6_BJPHt5"
      },
      "source": [
        "## Media de Total Bsmt SF por cada década de construcción calculada a partir de Year Built. \n",
        "## ¿Cuál es la decada de construcción con viviendas mejor acondicionadas para el frío (Heating QC)?"
      ]
    },
    {
      "cell_type": "markdown",
      "metadata": {
        "id": "tOttvN7BXvnG"
      },
      "source": [
        "#Total Bsmt SF"
      ]
    },
    {
      "cell_type": "code",
      "metadata": {
        "id": "78jlUgdcHeOH"
      },
      "source": [
        "decades = data.withColumn(\"Year_Built\", F.when(F.col(\"Year_Built\") <= 1880 , \"1870-1880\").when(F.col(\"Year_Built\").between (1880, 1890) , \"1880-1890\").when(F.col(\"Year_Built\").between (1890, 1900) , \"1890-1900\").when(F.col(\"Year_Built\").between (1900, 1910) , \"1900-1910\").when(F.col(\"Year_Built\").between (1910, 1920) , \"1910-1920\").when(F.col(\"Year_Built\").between (1920, 1930) , \"1920-1930\").when(F.col(\"Year_Built\").between (1930, 1940) , \"1930-1940\").when(F.col(\"Year_Built\").between (1940, 1950) , \"1940-1950\").when(F.col(\"Year_Built\").between (1950, 1960) , \"1950-1960\").when(F.col(\"Year_Built\").between (1960, 1970) , \"1960-1970\").when(F.col(\"Year_Built\").between (1970, 1980) , \"1970-1980\").when(F.col(\"Year_Built\").between (1980, 1990) , \"1980-1990\").when(F.col(\"Year_Built\").between (1990, 2000) , \"1990-2000\").when(F.col(\"Year_Built\").between (2000, 2010) , \"2000-2010\").when(F.col(\"Year_Built\").between (2010, 2020) , \"2010-2020\").otherwise(F.col(\"Year_Built\")))\r\n"
      ],
      "execution_count": 18,
      "outputs": []
    },
    {
      "cell_type": "code",
      "metadata": {
        "colab": {
          "base_uri": "https://localhost:8080/"
        },
        "id": "O48iJLUxGRnf",
        "outputId": "6f307ed9-cb04-455b-aaec-51f9abab1db4"
      },
      "source": [
        "sotanos = decades.groupBy(\"Year_Built\").agg(mean_(\"Total_Bsmt_SF\"))\r\n",
        "sotanos.show(20)"
      ],
      "execution_count": 19,
      "outputs": [
        {
          "output_type": "stream",
          "text": [
            "+----------+------------------+\n",
            "|Year_Built|avg(Total_Bsmt_SF)|\n",
            "+----------+------------------+\n",
            "| 1870-1880|           829.625|\n",
            "| 1940-1950| 709.5894039735099|\n",
            "| 1890-1900| 763.1612903225806|\n",
            "| 1900-1910| 726.4285714285714|\n",
            "| 1930-1940| 779.9915254237288|\n",
            "| 1980-1990|1156.4642857142858|\n",
            "| 1920-1930| 832.8711656441718|\n",
            "| 1970-1980| 958.1260744985674|\n",
            "| 1950-1960|1010.1167664670659|\n",
            "| 2000-2010|1361.6677265500796|\n",
            "| 1960-1970| 1052.756906077348|\n",
            "| 1910-1920| 807.3275862068965|\n",
            "| 1880-1890|             803.8|\n",
            "| 1990-2000|1130.4363636363637|\n",
            "+----------+------------------+\n",
            "\n"
          ],
          "name": "stdout"
        }
      ]
    },
    {
      "cell_type": "markdown",
      "metadata": {
        "id": "GVQcp2M_X0pj"
      },
      "source": [
        "# Heating QC"
      ]
    },
    {
      "cell_type": "markdown",
      "metadata": {
        "id": "XKIIV-X-XQLr"
      },
      "source": [
        "Le vamos a dar puntos a cada tipo de valoración de la calidad de la calefacción, para poder hacer una media por décadas. El máximo de puntuación es 5, si es Excelente, y la menor es 1, que ocurre cuando es pobre."
      ]
    },
    {
      "cell_type": "code",
      "metadata": {
        "id": "Wsn2tK77SPxq"
      },
      "source": [
        "puntos = decades.withColumn(\"Heating_QC\", F.when(F.col(\"Heating_QC\") == \"Ex\" , 5).when(F.col(\"Heating_QC\") == \"Gd\" , 4).when(F.col(\"Heating_QC\") == \"TA\" , 3).when(F.col(\"Heating_QC\") == \"Fa\", 2).when(F.col(\"Heating_QC\") == \"Po\", 1).otherwise(0))\r\n"
      ],
      "execution_count": 21,
      "outputs": []
    },
    {
      "cell_type": "code",
      "metadata": {
        "colab": {
          "base_uri": "https://localhost:8080/"
        },
        "id": "7G7kvygYXM2m",
        "outputId": "c9fb7a52-575e-48d6-f968-e01289c8f609"
      },
      "source": [
        "sumaPuntos = puntos.groupBy(\"Year_Built\").agg(mean_(\"Heating_QC\"))\r\n",
        "sumaPuntos.orderBy(\"avg(Heating_QC)\", ascending = [0]).show(5)"
      ],
      "execution_count": 22,
      "outputs": [
        {
          "output_type": "stream",
          "text": [
            "+----------+------------------+\n",
            "|Year_Built|   avg(Heating_QC)|\n",
            "+----------+------------------+\n",
            "| 2000-2010| 4.960254372019078|\n",
            "| 1990-2000| 4.775757575757575|\n",
            "| 1880-1890|               4.0|\n",
            "| 1890-1900| 3.967741935483871|\n",
            "| 1930-1940|3.9661016949152543|\n",
            "+----------+------------------+\n",
            "only showing top 5 rows\n",
            "\n"
          ],
          "name": "stdout"
        }
      ]
    },
    {
      "cell_type": "markdown",
      "metadata": {
        "id": "s0-uqn2oW6Cb"
      },
      "source": [
        "Podemos comprobar que los años donde mejor puntuación en acondicionado para el frio son  las construidas entre la década del 2000-2010"
      ]
    },
    {
      "cell_type": "markdown",
      "metadata": {
        "id": "vBpmaaM-PHt5"
      },
      "source": [
        "## ¿Cuáles son las 10 viviendas que se vendieron por un precio más elevado por metro cuadrado en el año 2009?"
      ]
    },
    {
      "cell_type": "markdown",
      "metadata": {
        "id": "F744vkuWpfMC"
      },
      "source": [
        "Antes de nada hay que transformar la variable Lot_Area de pies cuadrados a metros cuadrados, para calcular así el precio por metro cuadrado. Un pie equivale a 0.3048 metros"
      ]
    },
    {
      "cell_type": "code",
      "metadata": {
        "id": "nPwrLgq2pfUb"
      },
      "source": [
        "dataM2 = data.withColumn(\"Lot_Area\", col(\"Lot_Area\")*0.09290304)"
      ],
      "execution_count": 23,
      "outputs": []
    },
    {
      "cell_type": "code",
      "metadata": {
        "id": "ChtGQpBPZ9Y2"
      },
      "source": [
        "dataM2 = dataM2.withColumn(\"Price_per_M2\", col(\"SalePrice\")/F.col(\"Lot_Area\"))"
      ],
      "execution_count": 24,
      "outputs": []
    },
    {
      "cell_type": "code",
      "metadata": {
        "colab": {
          "base_uri": "https://localhost:8080/"
        },
        "id": "XUt_iXelDNN7",
        "outputId": "b97104b5-230e-440e-94cb-ae31e205a05e"
      },
      "source": [
        "data_filter = dataM2.filter(\"Year_Built == '2009'\").orderBy([\"Price_per_M2\"],ascending=[0])\r\n",
        "data_filter.show(10)"
      ],
      "execution_count": 25,
      "outputs": [
        {
          "output_type": "stream",
          "text": [
            "+-----+------------------+---------+------------+------------+----------+------------+----------+--------------+------------+----------+---------+-------------+----------+-----------+---------+---------+-------------+-------------+------------+-------------+-----------+-----------+-----------+---------+-------+-------+-------+---------+------------------+\n",
            "|Order|          Lot_Area|MS_Zoning|Lot_Frontage|Land_Contour|Land_Slope|Overall_Qual|Year_Built|Year_Remod_Add|Mas_Vnr_Type|Exter_Qual|Bsmt_Cond|Total_Bsmt_SF|Heating_QC|Central_Air|Full_Bath|Half_Bath|Bedroom_AbvGr|Kitchen_AbvGr|Kitchen_Qual|TotRms_AbvGrd|Garage_Cars|Garage_Area|Garage_Cond|Pool_Area|Pool_QC|Mo_Sold|Yr_Sold|SalePrice|      Price_per_M2|\n",
            "+-----+------------------+---------+------------+------------+----------+------------+----------+--------------+------------+----------+---------+-------------+----------+-----------+---------+---------+-------------+-------------+------------+-------------+-----------+-----------+-----------+---------+-------+-------+-------+---------+------------------+\n",
            "|   45|1200.2143737600002|       RL|         100|         Lvl|       Gtl|           9|      2009|          2010|       Stone|        Ex|       TA|         2330|        Ex|          Y|        2|        1|            2|            1|          Ex|           11|          3|        820|         TA|        0|     Sp|      3|   2010|   611657| 509.6231251453996|\n",
            "|   39|      943.80198336|       RL|          83|         Lvl|       Gtl|           9|      2009|          2010|       Stone|        Ex|       TA|         1930|        Ex|          Y|        2|        1|            3|            1|          Ex|            8|          3|        606|         TA|        0|     Sp|      4|   2010|   395192| 418.7234260655919|\n",
            "|   46|      591.88526784|       RL|          44|         Lvl|       Gtl|           7|      2009|          2010|       Stone|        Gd|       TA|         1358|        Ex|          Y|        2|        0|            2|            1|          Gd|            6|          2|        484|         TA|        0|     Sp|      6|   2010|   224000|378.45172395902966|\n",
            "|  431|1135.2751488000001|       RL|          94|         Lvl|       Gtl|          10|      2009|          2009|     BrkFace|        Ex|       TA|         2006|        Ex|          Y|        2|        1|            3|            1|          Ex|            9|          3|        900|         TA|        0|     Sp|      9|   2009|   402861| 354.8575871019718|\n",
            "|  428|       1147.352544|       RL|          95|         Lvl|       Gtl|           9|      2009|          2009|        None|        Gd|       TA|         1365|        Ex|          Y|        2|        1|            3|            1|          Ex|            8|          3|        864|         TA|        0|     Sp|      7|   2009|   398800|347.58279143188963|\n",
            "|  819|     1015.70893632|       RL|          84|         Lvl|       Gtl|           9|      2009|          2009|       Stone|        Ex|       TA|         1555|        Ex|          Y|        1|        1|            1|            1|          Ex|            8|          3|       1138|         TA|        0|     Sp|      7|   2009|   323262|  318.262435665089|\n",
            "|   37|     1194.54728832|       RL|         102|         Lvl|       Gtl|           9|      2009|          2010|       Stone|        Ex|       TA|         1590|        Ex|          Y|        2|        1|            3|            1|          Ex|           10|          3|        751|         TA|        0|     Sp|      1|   2010|   376162|314.89921217688305|\n",
            "|  447| 886.3879046400001|       RL|          79|         Lvl|       Gtl|           7|      2009|          2009|       Stone|        Gd|       TA|         1502|        Ex|          Y|        2|        0|            3|            1|          Gd|            7|          2|        644|         TA|        0|     Sp|      9|   2009|   233170|  263.056387366545|\n",
            "|   40|     1196.86986432|       RL|          94|         Lvl|       Gtl|           8|      2009|          2010|       Stone|        Gd|       TA|         1544|        Ex|          Y|        2|        0|            3|            1|          Gd|            7|          3|        868|         TA|        0|     Sp|      6|   2010|   290941|243.08490728463426|\n",
            "|  319|     1115.11518912|       RL|          92|         Lvl|       Gtl|           8|      2009|          2010|     BrkFace|        Gd|       TA|          774|        Ex|          Y|        2|        1|            4|            1|          Ex|            8|          3|        680|         TA|        0|     Sp|      5|   2010|   269500|241.67906834152046|\n",
            "+-----+------------------+---------+------------+------------+----------+------------+----------+--------------+------------+----------+---------+-------------+----------+-----------+---------+---------+-------------+-------------+------------+-------------+-----------+-----------+-----------+---------+-------+-------+-------+---------+------------------+\n",
            "only showing top 10 rows\n",
            "\n"
          ],
          "name": "stdout"
        }
      ]
    },
    {
      "cell_type": "markdown",
      "metadata": {
        "id": "0K_0vPnvPHt5"
      },
      "source": [
        "## Media anual por zonas del precio de venta y metros cuadrados."
      ]
    },
    {
      "cell_type": "code",
      "metadata": {
        "colab": {
          "base_uri": "https://localhost:8080/"
        },
        "id": "g1jbAh5yiHcf",
        "outputId": "295a9ab1-e8ff-4484-ddad-a544cfa84e67"
      },
      "source": [
        "data_zone = dataM2.groupBy(\"Year_Built\", \"MS_Zoning\").avg(\"SalePrice\", \"Lot_Area\")\r\n",
        "data_zone.orderBy([\"Year_Built\"], ascending = [0]).show()"
      ],
      "execution_count": 26,
      "outputs": [
        {
          "output_type": "stream",
          "text": [
            "+----------+---------+------------------+------------------+\n",
            "|Year_Built|MS_Zoning|    avg(SalePrice)|     avg(Lot_Area)|\n",
            "+----------+---------+------------------+------------------+\n",
            "|      2010|       RL|          290716.0| 871.1518060800001|\n",
            "|      2009|       RL|308183.73333333334|    1074.615657216|\n",
            "|      2008|       RL|331959.25641025644|1273.9222164184616|\n",
            "|      2008|       RM|          267750.0|      716.42179296|\n",
            "|      2007|       RM|          262232.0|      357.02638272|\n",
            "|      2007|       RL|          271814.7|    1007.685210432|\n",
            "|      2006|       RM|          305000.0|      479.28678336|\n",
            "|      2006|       RL| 265620.2831858407|1023.5201910371685|\n",
            "|      2005|       RM|176571.42857142858| 368.9312437028571|\n",
            "|      2005|       RL|251356.73333333334| 961.2956257920004|\n",
            "|      2004|       RM|          179546.5|362.57269420800003|\n",
            "|      2004|       RL|     231581.484375|1007.7889521600001|\n",
            "|      2003|       RM|         146093.75|      540.95117616|\n",
            "|      2003|       RL|247085.01408450704| 950.0735928067606|\n",
            "|      2002|       RL|228877.67441860464| 985.8503313711631|\n",
            "|      2002|       RH|          190000.0|      815.03836992|\n",
            "|      2001|       RH|          155000.0|      382.11020352|\n",
            "|      2001|       RL| 241720.6896551724| 983.7823260910345|\n",
            "|      2000|       RL|235768.05555555556| 890.1375745600003|\n",
            "|      1999|       RM|          165000.0|418.06368000000003|\n",
            "+----------+---------+------------------+------------------+\n",
            "only showing top 20 rows\n",
            "\n"
          ],
          "name": "stdout"
        }
      ]
    },
    {
      "cell_type": "markdown",
      "metadata": {
        "id": "jvmlQeFhPHt5"
      },
      "source": [
        "## ¿Podrías decirme el total de recaudación de las casas de revistimiento (Mas Vnr Type) de piedra con respecto a las de ladrillo? ¿Hay diferencia significativa?"
      ]
    },
    {
      "cell_type": "code",
      "metadata": {
        "colab": {
          "base_uri": "https://localhost:8080/"
        },
        "id": "VsqyvYR4pHFU",
        "outputId": "9c5eb106-d5c6-436b-cc23-d00e3b683800"
      },
      "source": [
        "data_materials = data.groupBy(\"Mas_Vnr_Type\").sum(\"SalePrice\")\r\n",
        "data_materials.show()\r\n"
      ],
      "execution_count": 27,
      "outputs": [
        {
          "output_type": "stream",
          "text": [
            "+------------+--------------+\n",
            "|Mas_Vnr_Type|sum(SalePrice)|\n",
            "+------------+--------------+\n",
            "|        None|     250538498|\n",
            "|      BrkCmn|       3504975|\n",
            "|        null|       3831658|\n",
            "|       Stone|      60175477|\n",
            "|     BrkFace|     178912561|\n",
            "|      CBlock|         80000|\n",
            "+------------+--------------+\n",
            "\n"
          ],
          "name": "stdout"
        }
      ]
    },
    {
      "cell_type": "code",
      "metadata": {
        "colab": {
          "base_uri": "https://localhost:8080/"
        },
        "id": "1tIbZJXctNkK",
        "outputId": "a515d5a6-eeb8-472c-f4e7-b287681d0f0c"
      },
      "source": [
        "data_materials = data.groupBy(\"Mas_Vnr_Type\").avg(\"SalePrice\")\r\n",
        "data_materials.show()"
      ],
      "execution_count": 28,
      "outputs": [
        {
          "output_type": "stream",
          "text": [
            "+------------+------------------+\n",
            "|Mas_Vnr_Type|    avg(SalePrice)|\n",
            "+------------+------------------+\n",
            "|        None| 152488.4345709069|\n",
            "|      BrkCmn|          140199.0|\n",
            "|        null|        239478.625|\n",
            "|       Stone| 262775.0087336245|\n",
            "|     BrkFace|210981.79363207548|\n",
            "|      CBlock|           80000.0|\n",
            "+------------+------------------+\n",
            "\n"
          ],
          "name": "stdout"
        }
      ]
    },
    {
      "cell_type": "markdown",
      "metadata": {
        "id": "LuKrf7WPryDL"
      },
      "source": [
        "Si miramos valores absolutos lo que mas recauda es el  ladrillo descubierto, con mas de 178.912.561 dolares recaudados, frente a los 60.175.477 de la piedra. El ladrillo común por su parte recaudó solamente 3.504.975. \r\n",
        "\r\n",
        "La diferencia entre la media del revestimiento del ladrillo normal (BrkCmn) (140.199) y la piedra (Stone) (262.775)  es de mas de 120.000 euros, pero si consideramos a el ladrillo visto (BrkFace) (210.981) la diferencia no es tan significativa, 50.000. \r\n",
        "El revestimiento de ladrillo en general recauda mucho más. Aún así el revestimiento de piedra recauda más de media. "
      ]
    },
    {
      "cell_type": "markdown",
      "metadata": {
        "id": "DjlvElr-PHt5"
      },
      "source": [
        "## ¿Cuánto son más caras las viviendas con 2 cocinas, con 2 o más plazas de garaje que las que tienen 1 cocina y 1 plaza de garaje? Comparar medias y cuartiles de ambos casos"
      ]
    },
    {
      "cell_type": "code",
      "metadata": {
        "id": "zGF5YpkbHTYu"
      },
      "source": [
        "data2cocinas = data.filter(\"Kitchen_AbvGr = '2'\").filter(\"Garage_Cars >= '2'\") \r\n",
        "data1cocina = data.filter(\"Kitchen_AbvGr = '1'\").filter(\"Garage_Cars = '1'\") \r\n"
      ],
      "execution_count": 29,
      "outputs": []
    },
    {
      "cell_type": "code",
      "metadata": {
        "colab": {
          "base_uri": "https://localhost:8080/"
        },
        "id": "WCBT9BtaZOBX",
        "outputId": "d6e8ff43-ee21-4c03-8c0c-607d4cbfc22a"
      },
      "source": [
        "\r\n",
        "data2cocinas.select(mean_(\"SalePrice\")).show()"
      ],
      "execution_count": 30,
      "outputs": [
        {
          "output_type": "stream",
          "text": [
            "+------------------+\n",
            "|    avg(SalePrice)|\n",
            "+------------------+\n",
            "|145124.27906976745|\n",
            "+------------------+\n",
            "\n"
          ],
          "name": "stdout"
        }
      ]
    },
    {
      "cell_type": "code",
      "metadata": {
        "colab": {
          "base_uri": "https://localhost:8080/"
        },
        "id": "Oqk1xUU5ZOIo",
        "outputId": "9ea99f9d-855e-4bdd-e365-8ca80e30f177"
      },
      "source": [
        "data1cocina.select(mean_(\"SalePrice\")).show()"
      ],
      "execution_count": 31,
      "outputs": [
        {
          "output_type": "stream",
          "text": [
            "+------------------+\n",
            "|    avg(SalePrice)|\n",
            "+------------------+\n",
            "|128121.99337748345|\n",
            "+------------------+\n",
            "\n"
          ],
          "name": "stdout"
        }
      ]
    },
    {
      "cell_type": "markdown",
      "metadata": {
        "id": "hANaI76cILCa"
      },
      "source": [
        "De media las viviendas con 2 cocinas y dos o más plazas de garaje son casi 20.000 euros más caras."
      ]
    },
    {
      "cell_type": "code",
      "metadata": {
        "colab": {
          "base_uri": "https://localhost:8080/"
        },
        "id": "mI3K5wLTEfry",
        "outputId": "747f9a49-cb11-4d00-86d9-31d3fc3affcc"
      },
      "source": [
        "data2cocinas.approxQuantile(\"SalePrice\", [0.25,0.5,0.75], 0.1)\r\n"
      ],
      "execution_count": 37,
      "outputs": [
        {
          "output_type": "execute_result",
          "data": {
            "text/plain": [
              "[118858.0, 135000.0, 171000.0]"
            ]
          },
          "metadata": {
            "tags": []
          },
          "execution_count": 37
        }
      ]
    },
    {
      "cell_type": "code",
      "metadata": {
        "colab": {
          "base_uri": "https://localhost:8080/"
        },
        "id": "MYeTqOi_Efuk",
        "outputId": "66003d57-62ff-4432-f86b-6b22c425637c"
      },
      "source": [
        "data1cocina.approxQuantile(\"SalePrice\", [0.25,0.5,0.75,], 0.1)"
      ],
      "execution_count": 38,
      "outputs": [
        {
          "output_type": "execute_result",
          "data": {
            "text/plain": [
              "[111750.0, 131000.0, 150000.0]"
            ]
          },
          "metadata": {
            "tags": []
          },
          "execution_count": 38
        }
      ]
    },
    {
      "cell_type": "markdown",
      "metadata": {
        "id": "9KIBXGecIl2B"
      },
      "source": [
        "Los puntos de corte de los cuartiles casi no tienen una diferencia significativa, siendo los cuartiles de las casas con 2 cocinas y 2 o más coches  superiores a los cuartiles de las casas con 1 cocina y 1 coche, con una diferencia en los cortes que van aumentando conforme aumenta conforme subimos de cuartil, teniendo el corte inferior para el cuarto cuartil una diferencia entre ambos de más de 21.000"
      ]
    },
    {
      "cell_type": "markdown",
      "metadata": {
        "id": "DUAFx8rSPHt6"
      },
      "source": [
        "## (COMPLEMENTARIA) Estudiar la relación entre el precio y el número de Garajes. (Recomiendo segmentar precio por cuartiles y estudiar el número de casos coincidentes)"
      ]
    },
    {
      "cell_type": "markdown",
      "metadata": {
        "id": "tae1yG8xDZnE"
      },
      "source": [
        "Calculamos los cuartiles del precio"
      ]
    },
    {
      "cell_type": "code",
      "metadata": {
        "colab": {
          "base_uri": "https://localhost:8080/"
        },
        "id": "LkHwsgbTdoOO",
        "outputId": "c1e83e3c-3173-4a9a-bcb9-f8732d8a4a78"
      },
      "source": [
        "data.approxQuantile(\"SalePrice\", [0.25,0.5,0.75], 0.1)"
      ],
      "execution_count": 508,
      "outputs": [
        {
          "output_type": "execute_result",
          "data": {
            "text/plain": [
              "[157000.0, 175900.0, 287602.0]"
            ]
          },
          "metadata": {
            "tags": []
          },
          "execution_count": 508
        }
      ]
    },
    {
      "cell_type": "markdown",
      "metadata": {
        "id": "UcDfN3nNFOUK"
      },
      "source": [
        "Separamos por cuartiles los datos y vemos su correlación con el número de plazas de garaje."
      ]
    },
    {
      "cell_type": "code",
      "metadata": {
        "colab": {
          "base_uri": "https://localhost:8080/"
        },
        "id": "autev_e7Dp4X",
        "outputId": "ddeeab6a-e4f1-4629-edf1-bb2e6e9a4ce1"
      },
      "source": [
        "primer_cuartil = data.filter(\"SalePrice <= '157000'\")\r\n",
        "primer_cuartil.corr(\"SalePrice\", \"Garage_Cars\")\r\n"
      ],
      "execution_count": 39,
      "outputs": [
        {
          "output_type": "execute_result",
          "data": {
            "text/plain": [
              "0.363979308154081"
            ]
          },
          "metadata": {
            "tags": []
          },
          "execution_count": 39
        }
      ]
    },
    {
      "cell_type": "code",
      "metadata": {
        "colab": {
          "base_uri": "https://localhost:8080/"
        },
        "id": "QUno84WqEAEM",
        "outputId": "4b58aab3-272e-487f-a579-596ba039c1e6"
      },
      "source": [
        "segundo_cuartil = data.filter(F.col(\"SalePrice\").between (157000, 175900))\r\n",
        "segundo_cuartil.corr(\"SalePrice\", \"Garage_Cars\")"
      ],
      "execution_count": 40,
      "outputs": [
        {
          "output_type": "execute_result",
          "data": {
            "text/plain": [
              "0.28722470613427026"
            ]
          },
          "metadata": {
            "tags": []
          },
          "execution_count": 40
        }
      ]
    },
    {
      "cell_type": "code",
      "metadata": {
        "colab": {
          "base_uri": "https://localhost:8080/"
        },
        "id": "DajnN0plEANE",
        "outputId": "d6297df3-e9ab-48cb-ede2-67f327395bfc"
      },
      "source": [
        "tercer_cuartil = data.filter(F.col(\"SalePrice\").between (175900, 287602))\r\n",
        "tercer_cuartil.corr(\"SalePrice\", \"Garage_Cars\")\r\n"
      ],
      "execution_count": 41,
      "outputs": [
        {
          "output_type": "execute_result",
          "data": {
            "text/plain": [
              "0.3272084886722844"
            ]
          },
          "metadata": {
            "tags": []
          },
          "execution_count": 41
        }
      ]
    },
    {
      "cell_type": "code",
      "metadata": {
        "colab": {
          "base_uri": "https://localhost:8080/"
        },
        "id": "fUSc8OkXEARV",
        "outputId": "49704225-5bf5-4774-ad6f-ab0367bb7bd4"
      },
      "source": [
        "cuarto_cuartil = data.filter(\"SalePrice >= '287602'\")\r\n",
        "cuarto_cuartil.corr(\"SalePrice\", \"Garage_Cars\")"
      ],
      "execution_count": 42,
      "outputs": [
        {
          "output_type": "execute_result",
          "data": {
            "text/plain": [
              "0.2381481587736009"
            ]
          },
          "metadata": {
            "tags": []
          },
          "execution_count": 42
        }
      ]
    },
    {
      "cell_type": "markdown",
      "metadata": {
        "id": "sbRovJkhFlwY"
      },
      "source": [
        "Podemos comprobar como la correlación entre el número de plazas de garaje y el precio de la vivienda varía significamente dependiendo del cuartil. La correlación en el primer cuartil es del 36%, mientras que la del segundo cuartil desciende a 28%. Esto tiene una explicación lógica, y es que mientras estás en el primer cuartil, es muy fácil que el número de plazas de garaje sea solo 0 o 1, y claramente en precios bajos una plaza de garaje extra aporta numeroso valor a la vivienda, aumentando la correlación. En el segundo cuartil los datos son más caóticos, ya que el rango de precios en el que fluctuamos existen otras variables mucho más influyentes.\r\n",
        "El tercer cuartil asciende al 32% de correlación, ya que con el nuevo rango de precio, uno superior a la mediana (entre 175.900-287.602), la existencia de plaza de garaje casi es una obligación, y no fluctua tanto, siendo solo o 1 o 2.\r\n",
        "Por último el último cuartil tiene una correlación de más del 23%. Este enorme descenso se debe a que en esos volúmenes de dinero, suele ser indiferente 2,3 o 4 plazas de garaje. Son otras las variables que influyen más en el precio, como lo puede ser la existencia de una piscina. \r\n",
        "\r\n"
      ]
    },
    {
      "cell_type": "markdown",
      "metadata": {
        "id": "sD6qkRJZPHt6"
      },
      "source": [
        "## (COMPLEMENTARIA) Las 10 viviendas con mejores servicios y mejor precio."
      ]
    },
    {
      "cell_type": "markdown",
      "metadata": {
        "id": "9zxZ2-t1PHt6"
      },
      "source": [
        "### Pista:\n",
        "#### Calcula las variables: \n",
        "- Número de servicios excelentes\n",
        "- Número de servicios buenos\n",
        "...\n",
        "\n",
        "#### Tendréis que tener en cuenta también variables como número de baños Full Bath, cocinas Kitchen AbvGr o dormitorios Bedroom AbvGr. Generando por ejemplo (número de estas variables por encima de media)\n",
        "\n",
        "#### Finalmente precio de venta"
      ]
    }
  ]
}